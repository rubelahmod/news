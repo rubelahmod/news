{
 "cells": [
  {
   "cell_type": "code",
   "execution_count": 1,
   "id": "10870e0b",
   "metadata": {
    "_cell_guid": "b1076dfc-b9ad-4769-8c92-a6c4dae69d19",
    "_uuid": "8f2839f25d086af736a60e9eeb907d3b93b6e0e5",
    "execution": {
     "iopub.execute_input": "2024-11-10T04:36:11.452465Z",
     "iopub.status.busy": "2024-11-10T04:36:11.451788Z",
     "iopub.status.idle": "2024-11-10T04:36:12.120698Z",
     "shell.execute_reply": "2024-11-10T04:36:12.119809Z"
    },
    "papermill": {
     "duration": 0.684031,
     "end_time": "2024-11-10T04:36:12.122834",
     "exception": false,
     "start_time": "2024-11-10T04:36:11.438803",
     "status": "completed"
    },
    "tags": []
   },
   "outputs": [
    {
     "name": "stdout",
     "output_type": "stream",
     "text": [
      "/kaggle/input/over-11500-bangla-news-for-nlp/Bangla_news.csv\n"
     ]
    }
   ],
   "source": [
    "# This Python 3 environment comes with many helpful analytics libraries installed\n",
    "# It is defined by the kaggle/python Docker image: https://github.com/kaggle/docker-python\n",
    "# For example, here's several helpful packages to load\n",
    "\n",
    "import numpy as np # linear algebra\n",
    "import pandas as pd # data processing, CSV file I/O (e.g. pd.read_csv)\n",
    "\n",
    "# Input data files are available in the read-only \"../input/\" directory\n",
    "# For example, running this (by clicking run or pressing Shift+Enter) will list all files under the input directory\n",
    "\n",
    "import os\n",
    "for dirname, _, filenames in os.walk('/kaggle/input'):\n",
    "    for filename in filenames:\n",
    "        print(os.path.join(dirname, filename))\n",
    "\n",
    "# You can write up to 20GB to the current directory (/kaggle/working/) that gets preserved as output when you create a version using \"Save & Run All\" \n",
    "# You can also write temporary files to /kaggle/temp/, but they won't be saved outside of the current session"
   ]
  },
  {
   "cell_type": "markdown",
   "id": "4217f712",
   "metadata": {
    "papermill": {
     "duration": 0.010806,
     "end_time": "2024-11-10T04:36:12.146112",
     "exception": false,
     "start_time": "2024-11-10T04:36:12.135306",
     "status": "completed"
    },
    "tags": []
   },
   "source": [
    "# Exploratory data analysis (EDA)"
   ]
  },
  {
   "cell_type": "code",
   "execution_count": 2,
   "id": "cf5a37c8",
   "metadata": {
    "execution": {
     "iopub.execute_input": "2024-11-10T04:36:12.169629Z",
     "iopub.status.busy": "2024-11-10T04:36:12.169180Z",
     "iopub.status.idle": "2024-11-10T04:36:12.173403Z",
     "shell.execute_reply": "2024-11-10T04:36:12.172630Z"
    },
    "papermill": {
     "duration": 0.01833,
     "end_time": "2024-11-10T04:36:12.175314",
     "exception": false,
     "start_time": "2024-11-10T04:36:12.156984",
     "status": "completed"
    },
    "tags": []
   },
   "outputs": [],
   "source": [
    "import pandas as pd\n",
    "import matplotlib.pyplot as plt"
   ]
  },
  {
   "cell_type": "code",
   "execution_count": 3,
   "id": "5e98561a",
   "metadata": {
    "execution": {
     "iopub.execute_input": "2024-11-10T04:36:12.198236Z",
     "iopub.status.busy": "2024-11-10T04:36:12.197970Z",
     "iopub.status.idle": "2024-11-10T04:36:12.621244Z",
     "shell.execute_reply": "2024-11-10T04:36:12.620460Z"
    },
    "papermill": {
     "duration": 0.437269,
     "end_time": "2024-11-10T04:36:12.623465",
     "exception": false,
     "start_time": "2024-11-10T04:36:12.186196",
     "status": "completed"
    },
    "tags": []
   },
   "outputs": [],
   "source": [
    "# Load the dataset\n",
    "\n",
    "data = pd.read_csv('/kaggle/input/over-11500-bangla-news-for-nlp/Bangla_news.csv')"
   ]
  },
  {
   "cell_type": "code",
   "execution_count": 4,
   "id": "b398a3c2",
   "metadata": {
    "execution": {
     "iopub.execute_input": "2024-11-10T04:36:12.647641Z",
     "iopub.status.busy": "2024-11-10T04:36:12.647020Z",
     "iopub.status.idle": "2024-11-10T04:36:12.729139Z",
     "shell.execute_reply": "2024-11-10T04:36:12.728117Z"
    },
    "papermill": {
     "duration": 0.096283,
     "end_time": "2024-11-10T04:36:12.731091",
     "exception": false,
     "start_time": "2024-11-10T04:36:12.634808",
     "status": "completed"
    },
    "tags": []
   },
   "outputs": [
    {
     "name": "stdout",
     "output_type": "stream",
     "text": [
      "<class 'pandas.core.frame.DataFrame'>\n",
      "RangeIndex: 11904 entries, 0 to 11903\n",
      "Data columns (total 6 columns):\n",
      " #   Column          Non-Null Count  Dtype \n",
      "---  ------          --------------  ----- \n",
      " 0   title           11904 non-null  object\n",
      " 1   published_date  11904 non-null  object\n",
      " 2   reporter        10914 non-null  object\n",
      " 3   category        11904 non-null  object\n",
      " 4   url             11904 non-null  object\n",
      " 5   content         11904 non-null  object\n",
      "dtypes: object(6)\n",
      "memory usage: 558.1+ KB\n"
     ]
    }
   ],
   "source": [
    "# General overview of the data\n",
    "data_info = data.info()\n",
    "data_description = data.describe(include='all')"
   ]
  },
  {
   "cell_type": "code",
   "execution_count": 5,
   "id": "b6e14a58",
   "metadata": {
    "execution": {
     "iopub.execute_input": "2024-11-10T04:36:12.754570Z",
     "iopub.status.busy": "2024-11-10T04:36:12.754097Z",
     "iopub.status.idle": "2024-11-10T04:36:12.768480Z",
     "shell.execute_reply": "2024-11-10T04:36:12.767673Z"
    },
    "papermill": {
     "duration": 0.028265,
     "end_time": "2024-11-10T04:36:12.770407",
     "exception": false,
     "start_time": "2024-11-10T04:36:12.742142",
     "status": "completed"
    },
    "tags": []
   },
   "outputs": [
    {
     "data": {
      "text/plain": [
       "title               0\n",
       "published_date      0\n",
       "reporter          990\n",
       "category            0\n",
       "url                 0\n",
       "content             0\n",
       "dtype: int64"
      ]
     },
     "execution_count": 5,
     "metadata": {},
     "output_type": "execute_result"
    }
   ],
   "source": [
    "# Checking for missing values\n",
    "missing_values = data.isnull().sum()\n",
    "missing_values"
   ]
  },
  {
   "cell_type": "code",
   "execution_count": 6,
   "id": "7957cd4a",
   "metadata": {
    "execution": {
     "iopub.execute_input": "2024-11-10T04:36:12.794148Z",
     "iopub.status.busy": "2024-11-10T04:36:12.793643Z",
     "iopub.status.idle": "2024-11-10T04:36:12.802381Z",
     "shell.execute_reply": "2024-11-10T04:36:12.801582Z"
    },
    "papermill": {
     "duration": 0.022719,
     "end_time": "2024-11-10T04:36:12.804164",
     "exception": false,
     "start_time": "2024-11-10T04:36:12.781445",
     "status": "completed"
    },
    "tags": []
   },
   "outputs": [
    {
     "data": {
      "text/plain": [
       "category\n",
       "sports           2976\n",
       "international    2976\n",
       "entertainment    2976\n",
       "national         2976\n",
       "Name: count, dtype: int64"
      ]
     },
     "execution_count": 6,
     "metadata": {},
     "output_type": "execute_result"
    }
   ],
   "source": [
    "# Analyzing the distribution of categories\n",
    "category_distribution = data['category'].value_counts()\n",
    "category_distribution"
   ]
  },
  {
   "cell_type": "code",
   "execution_count": 7,
   "id": "35f2b42d",
   "metadata": {
    "execution": {
     "iopub.execute_input": "2024-11-10T04:36:12.827855Z",
     "iopub.status.busy": "2024-11-10T04:36:12.827368Z",
     "iopub.status.idle": "2024-11-10T04:36:12.832933Z",
     "shell.execute_reply": "2024-11-10T04:36:12.832185Z"
    },
    "papermill": {
     "duration": 0.019477,
     "end_time": "2024-11-10T04:36:12.834850",
     "exception": false,
     "start_time": "2024-11-10T04:36:12.815373",
     "status": "completed"
    },
    "tags": []
   },
   "outputs": [],
   "source": [
    "# Analyzing the distribution of news articles by reporter\n",
    "reporter_distribution = data['reporter'].value_counts()"
   ]
  },
  {
   "cell_type": "code",
   "execution_count": 8,
   "id": "a2191c62",
   "metadata": {
    "execution": {
     "iopub.execute_input": "2024-11-10T04:36:12.858878Z",
     "iopub.status.busy": "2024-11-10T04:36:12.858302Z",
     "iopub.status.idle": "2024-11-10T04:36:14.527195Z",
     "shell.execute_reply": "2024-11-10T04:36:14.526150Z"
    },
    "papermill": {
     "duration": 1.683316,
     "end_time": "2024-11-10T04:36:14.529598",
     "exception": false,
     "start_time": "2024-11-10T04:36:12.846282",
     "status": "completed"
    },
    "tags": []
   },
   "outputs": [
    {
     "name": "stderr",
     "output_type": "stream",
     "text": [
      "/tmp/ipykernel_23/1879087989.py:2: UserWarning: Could not infer format, so each element will be parsed individually, falling back to `dateutil`. To ensure parsing is consistent and as-expected, please specify a format.\n",
      "  data['published_date'] = pd.to_datetime(data['published_date'], errors='coerce')\n"
     ]
    }
   ],
   "source": [
    "# Convert 'published_date' to datetime format for further time-based analysis\n",
    "data['published_date'] = pd.to_datetime(data['published_date'], errors='coerce')"
   ]
  },
  {
   "cell_type": "code",
   "execution_count": 9,
   "id": "b4ca6e06",
   "metadata": {
    "execution": {
     "iopub.execute_input": "2024-11-10T04:36:14.556608Z",
     "iopub.status.busy": "2024-11-10T04:36:14.555632Z",
     "iopub.status.idle": "2024-11-10T04:36:14.573863Z",
     "shell.execute_reply": "2024-11-10T04:36:14.573003Z"
    },
    "papermill": {
     "duration": 0.034496,
     "end_time": "2024-11-10T04:36:14.575878",
     "exception": false,
     "start_time": "2024-11-10T04:36:14.541382",
     "status": "completed"
    },
    "tags": []
   },
   "outputs": [],
   "source": [
    "# Articles per day analysis\n",
    "articles_per_day = data['published_date'].dt.date.value_counts().sort_index()"
   ]
  },
  {
   "cell_type": "code",
   "execution_count": 10,
   "id": "411dec89",
   "metadata": {
    "execution": {
     "iopub.execute_input": "2024-11-10T04:36:14.600622Z",
     "iopub.status.busy": "2024-11-10T04:36:14.599916Z",
     "iopub.status.idle": "2024-11-10T04:36:14.913034Z",
     "shell.execute_reply": "2024-11-10T04:36:14.912197Z"
    },
    "papermill": {
     "duration": 0.32769,
     "end_time": "2024-11-10T04:36:14.915074",
     "exception": false,
     "start_time": "2024-11-10T04:36:14.587384",
     "status": "completed"
    },
    "tags": []
   },
   "outputs": [
    {
     "data": {
      "image/png": "[encoded data removed]",
      "text/plain": [
       "<Figure size 1000x600 with 1 Axes>"
      ]
     },
     "metadata": {},
     "output_type": "display_data"
    }
   ],
   "source": [
    "# Plot the distribution of news categories\n",
    "plt.figure(figsize=(10, 6))\n",
    "category_distribution.plot(kind='bar')\n",
    "plt.title('Distribution of News Categories')\n",
    "plt.xlabel('Category')\n",
    "plt.ylabel('Number of Articles')\n",
    "plt.show()"
   ]
  },
  {
   "cell_type": "code",
   "execution_count": 11,
   "id": "fe3b6f67",
   "metadata": {
    "execution": {
     "iopub.execute_input": "2024-11-10T04:36:14.942210Z",
     "iopub.status.busy": "2024-11-10T04:36:14.941828Z",
     "iopub.status.idle": "2024-11-10T04:36:15.360219Z",
     "shell.execute_reply": "2024-11-10T04:36:15.359289Z"
    },
    "papermill": {
     "duration": 0.435267,
     "end_time": "2024-11-10T04:36:15.363399",
     "exception": false,
     "start_time": "2024-11-10T04:36:14.928132",
     "status": "completed"
    },
    "tags": []
   },
   "outputs": [
    {
     "data": {
      "image/png": "[encoded data removed]",
      "text/plain": [
       "<Figure size 1000x600 with 1 Axes>"
      ]
     },
     "metadata": {},
     "output_type": "display_data"
    }
   ],
   "source": [
    "# Plot the number of articles published per day\n",
    "plt.figure(figsize=(10, 6))\n",
    "articles_per_day.plot(kind='line', marker='o')\n",
    "plt.title('Number of Articles Published Per Day')\n",
    "plt.xlabel('Date')\n",
    "plt.ylabel('Number of Articles')\n",
    "plt.show()"
   ]
  },
  {
   "cell_type": "code",
   "execution_count": 12,
   "id": "8c7acbae",
   "metadata": {
    "execution": {
     "iopub.execute_input": "2024-11-10T04:36:15.393573Z",
     "iopub.status.busy": "2024-11-10T04:36:15.393188Z",
     "iopub.status.idle": "2024-11-10T04:36:15.402615Z",
     "shell.execute_reply": "2024-11-10T04:36:15.401379Z"
    },
    "papermill": {
     "duration": 0.026117,
     "end_time": "2024-11-10T04:36:15.405086",
     "exception": false,
     "start_time": "2024-11-10T04:36:15.378969",
     "status": "completed"
    },
    "tags": []
   },
   "outputs": [
    {
     "name": "stdout",
     "output_type": "stream",
     "text": [
      "Category Distribution:\n",
      "category\n",
      "sports           2976\n",
      "international    2976\n",
      "entertainment    2976\n",
      "national         2976\n",
      "Name: count, dtype: int64\n"
     ]
    }
   ],
   "source": [
    "# Most common categories\n",
    "category_distribution = data['category'].value_counts()\n",
    "\n",
    "print(\"Category Distribution:\")\n",
    "print(category_distribution)"
   ]
  },
  {
   "cell_type": "code",
   "execution_count": 13,
   "id": "09b200ff",
   "metadata": {
    "execution": {
     "iopub.execute_input": "2024-11-10T04:36:15.437326Z",
     "iopub.status.busy": "2024-11-10T04:36:15.436452Z",
     "iopub.status.idle": "2024-11-10T04:36:15.443738Z",
     "shell.execute_reply": "2024-11-10T04:36:15.442743Z"
    },
    "papermill": {
     "duration": 0.023491,
     "end_time": "2024-11-10T04:36:15.446117",
     "exception": false,
     "start_time": "2024-11-10T04:36:15.422626",
     "status": "completed"
    },
    "tags": []
   },
   "outputs": [
    {
     "name": "stdout",
     "output_type": "stream",
     "text": [
      "Number of articles without a reporter: 990\n"
     ]
    }
   ],
   "source": [
    "# Count missing reporters\n",
    "missing_reporters = data['reporter'].isnull().sum()\n",
    "print(f\"Number of articles without a reporter: {missing_reporters}\")"
   ]
  },
  {
   "cell_type": "code",
   "execution_count": 14,
   "id": "7bdf84a7",
   "metadata": {
    "execution": {
     "iopub.execute_input": "2024-11-10T04:36:15.476716Z",
     "iopub.status.busy": "2024-11-10T04:36:15.476096Z",
     "iopub.status.idle": "2024-11-10T04:36:15.572656Z",
     "shell.execute_reply": "2024-11-10T04:36:15.571632Z"
    },
    "papermill": {
     "duration": 0.112275,
     "end_time": "2024-11-10T04:36:15.574574",
     "exception": false,
     "start_time": "2024-11-10T04:36:15.462299",
     "status": "completed"
    },
    "tags": []
   },
   "outputs": [
    {
     "name": "stdout",
     "output_type": "stream",
     "text": [
      "Average article length: 76.01 words\n"
     ]
    }
   ],
   "source": [
    "# Calculate word count for each article\n",
    "data['content_length'] = data['content'].apply(lambda x: len(str(x).split()))\n",
    "\n",
    "# Calculate the average length\n",
    "average_length = data['content_length'].mean()\n",
    "print(f\"Average article length: {average_length:.2f} words\")"
   ]
  },
  {
   "cell_type": "code",
   "execution_count": 15,
   "id": "d48cb8d7",
   "metadata": {
    "execution": {
     "iopub.execute_input": "2024-11-10T04:36:15.601850Z",
     "iopub.status.busy": "2024-11-10T04:36:15.601549Z",
     "iopub.status.idle": "2024-11-10T04:36:15.611563Z",
     "shell.execute_reply": "2024-11-10T04:36:15.610450Z"
    },
    "papermill": {
     "duration": 0.02596,
     "end_time": "2024-11-10T04:36:15.613597",
     "exception": false,
     "start_time": "2024-11-10T04:36:15.587637",
     "status": "completed"
    },
    "tags": []
   },
   "outputs": [
    {
     "name": "stdout",
     "output_type": "stream",
     "text": [
      "Top Reporter: এএম with 1393 articles\n"
     ]
    }
   ],
   "source": [
    "# Top reporters\n",
    "top_reporter = data['reporter'].value_counts().idxmax()\n",
    "top_reporter_count = data['reporter'].value_counts().max()\n",
    "\n",
    "print(f\"Top Reporter: {top_reporter} with {top_reporter_count} articles\")"
   ]
  },
  {
   "cell_type": "code",
   "execution_count": 16,
   "id": "74fc40a2",
   "metadata": {
    "execution": {
     "iopub.execute_input": "2024-11-10T04:36:15.641939Z",
     "iopub.status.busy": "2024-11-10T04:36:15.641590Z",
     "iopub.status.idle": "2024-11-10T04:36:15.647554Z",
     "shell.execute_reply": "2024-11-10T04:36:15.646397Z"
    },
    "papermill": {
     "duration": 0.022121,
     "end_time": "2024-11-10T04:36:15.649487",
     "exception": false,
     "start_time": "2024-11-10T04:36:15.627366",
     "status": "completed"
    },
    "tags": []
   },
   "outputs": [
    {
     "name": "stdout",
     "output_type": "stream",
     "text": [
      "Highest number of articles was on 2024-03-01: 70 articles\n"
     ]
    }
   ],
   "source": [
    "# Day with most articles\n",
    "most_articles_day = articles_per_day.idxmax()\n",
    "most_articles_count = articles_per_day.max()\n",
    "\n",
    "print(f\"Highest number of articles was on {most_articles_day}: {most_articles_count} articles\")\n"
   ]
  },
  {
   "cell_type": "code",
   "execution_count": 17,
   "id": "4c9c9037",
   "metadata": {
    "execution": {
     "iopub.execute_input": "2024-11-10T04:36:15.678088Z",
     "iopub.status.busy": "2024-11-10T04:36:15.677455Z",
     "iopub.status.idle": "2024-11-10T04:36:15.688427Z",
     "shell.execute_reply": "2024-11-10T04:36:15.687212Z"
    },
    "papermill": {
     "duration": 0.027873,
     "end_time": "2024-11-10T04:36:15.690543",
     "exception": false,
     "start_time": "2024-11-10T04:36:15.662670",
     "status": "completed"
    },
    "tags": []
   },
   "outputs": [
    {
     "name": "stdout",
     "output_type": "stream",
     "text": [
      "Average Article Length by Category:\n",
      "category\n",
      "entertainment    84.685484\n",
      "international    68.993952\n",
      "national         64.348454\n",
      "sports           86.016801\n",
      "Name: content_length, dtype: float64\n"
     ]
    }
   ],
   "source": [
    "# Average content length per category\n",
    "avg_length_per_category = data.groupby('category')['content_length'].mean()\n",
    "\n",
    "print(\"Average Article Length by Category:\")\n",
    "print(avg_length_per_category)\n"
   ]
  },
  {
   "cell_type": "code",
   "execution_count": 18,
   "id": "dfc768ff",
   "metadata": {
    "execution": {
     "iopub.execute_input": "2024-11-10T04:36:15.718590Z",
     "iopub.status.busy": "2024-11-10T04:36:15.718333Z",
     "iopub.status.idle": "2024-11-10T04:36:15.724168Z",
     "shell.execute_reply": "2024-11-10T04:36:15.723461Z"
    },
    "papermill": {
     "duration": 0.021797,
     "end_time": "2024-11-10T04:36:15.726296",
     "exception": false,
     "start_time": "2024-11-10T04:36:15.704499",
     "status": "completed"
    },
    "tags": []
   },
   "outputs": [
    {
     "name": "stdout",
     "output_type": "stream",
     "text": [
      "Number of duplicate titles: 70\n"
     ]
    }
   ],
   "source": [
    "# Checking for duplicate titles\n",
    "duplicate_titles = data.duplicated('title').sum()\n",
    "print(f\"Number of duplicate titles: {duplicate_titles}\")\n"
   ]
  },
  {
   "cell_type": "markdown",
   "id": "90b40072",
   "metadata": {
    "papermill": {
     "duration": 0.013017,
     "end_time": "2024-11-10T04:36:15.752497",
     "exception": false,
     "start_time": "2024-11-10T04:36:15.739480",
     "status": "completed"
    },
    "tags": []
   },
   "source": [
    "# Model Train"
   ]
  },
  {
   "cell_type": "code",
   "execution_count": 19,
   "id": "27a96090",
   "metadata": {
    "execution": {
     "iopub.execute_input": "2024-11-10T04:36:15.779984Z",
     "iopub.status.busy": "2024-11-10T04:36:15.779693Z",
     "iopub.status.idle": "2024-11-10T04:36:28.294225Z",
     "shell.execute_reply": "2024-11-10T04:36:28.293274Z"
    },
    "papermill": {
     "duration": 12.530834,
     "end_time": "2024-11-10T04:36:28.296572",
     "exception": false,
     "start_time": "2024-11-10T04:36:15.765738",
     "status": "completed"
    },
    "tags": []
   },
   "outputs": [
    {
     "name": "stdout",
     "output_type": "stream",
     "text": [
      "Requirement already satisfied: datasets in /opt/conda/lib/python3.10/site-packages (3.0.1)\r\n",
      "Requirement already satisfied: filelock in /opt/conda/lib/python3.10/site-packages (from datasets) (3.15.1)\r\n",
      "Requirement already satisfied: numpy>=1.17 in /opt/conda/lib/python3.10/site-packages (from datasets) (1.26.4)\r\n",
      "Requirement already satisfied: pyarrow>=15.0.0 in /opt/conda/lib/python3.10/site-packages (from datasets) (16.1.0)\r\n",
      "Requirement already satisfied: dill<0.3.9,>=0.3.0 in /opt/conda/lib/python3.10/site-packages (from datasets) (0.3.8)\r\n",
      "Requirement already satisfied: pandas in /opt/conda/lib/python3.10/site-packages (from datasets) (2.2.2)\r\n",
      "Requirement already satisfied: requests>=2.32.2 in /opt/conda/lib/python3.10/site-packages (from datasets) (2.32.3)\r\n",
      "Requirement already satisfied: tqdm>=4.66.3 in /opt/conda/lib/python3.10/site-packages (from datasets) (4.66.4)\r\n",
      "Requirement already satisfied: xxhash in /opt/conda/lib/python3.10/site-packages (from datasets) (3.4.1)\r\n",
      "Requirement already satisfied: multiprocess in /opt/conda/lib/python3.10/site-packages (from datasets) (0.70.16)\r\n",
      "Requirement already satisfied: fsspec<=2024.6.1,>=2023.1.0 in /opt/conda/lib/python3.10/site-packages (from fsspec[http]<=2024.6.1,>=2023.1.0->datasets) (2024.6.1)\r\n",
      "Requirement already satisfied: aiohttp in /opt/conda/lib/python3.10/site-packages (from datasets) (3.9.5)\r\n",
      "Requirement already satisfied: huggingface-hub>=0.22.0 in /opt/conda/lib/python3.10/site-packages (from datasets) (0.25.1)\r\n",
      "Requirement already satisfied: packaging in /opt/conda/lib/python3.10/site-packages (from datasets) (21.3)\r\n",
      "Requirement already satisfied: pyyaml>=5.1 in /opt/conda/lib/python3.10/site-packages (from datasets) (6.0.2)\r\n",
      "Requirement already satisfied: aiosignal>=1.1.2 in /opt/conda/lib/python3.10/site-packages (from aiohttp->datasets) (1.3.1)\r\n",
      "Requirement already satisfied: attrs>=17.3.0 in /opt/conda/lib/python3.10/site-packages (from aiohttp->datasets) (23.2.0)\r\n",
      "Requirement already satisfied: frozenlist>=1.1.1 in /opt/conda/lib/python3.10/site-packages (from aiohttp->datasets) (1.4.1)\r\n",
      "Requirement already satisfied: multidict<7.0,>=4.5 in /opt/conda/lib/python3.10/site-packages (from aiohttp->datasets) (6.0.5)\r\n",
      "Requirement already satisfied: yarl<2.0,>=1.0 in /opt/conda/lib/python3.10/site-packages (from aiohttp->datasets) (1.9.4)\r\n",
      "Requirement already satisfied: async-timeout<5.0,>=4.0 in /opt/conda/lib/python3.10/site-packages (from aiohttp->datasets) (4.0.3)\r\n",
      "Requirement already satisfied: typing-extensions>=3.7.4.3 in /opt/conda/lib/python3.10/site-packages (from huggingface-hub>=0.22.0->datasets) (4.12.2)\r\n",
      "Requirement already satisfied: pyparsing!=3.0.5,>=2.0.2 in /opt/conda/lib/python3.10/site-packages (from packaging->datasets) (3.1.2)\r\n",
      "Requirement already satisfied: charset-normalizer<4,>=2 in /opt/conda/lib/python3.10/site-packages (from requests>=2.32.2->datasets) (3.3.2)\r\n",
      "Requirement already satisfied: idna<4,>=2.5 in /opt/conda/lib/python3.10/site-packages (from requests>=2.32.2->datasets) (3.7)\r\n",
      "Requirement already satisfied: urllib3<3,>=1.21.1 in /opt/conda/lib/python3.10/site-packages (from requests>=2.32.2->datasets) (1.26.18)\r\n",
      "Requirement already satisfied: certifi>=2017.4.17 in /opt/conda/lib/python3.10/site-packages (from requests>=2.32.2->datasets) (2024.8.30)\r\n",
      "Requirement already satisfied: python-dateutil>=2.8.2 in /opt/conda/lib/python3.10/site-packages (from pandas->datasets) (2.9.0.post0)\r\n",
      "Requirement already satisfied: pytz>=2020.1 in /opt/conda/lib/python3.10/site-packages (from pandas->datasets) (2024.1)\r\n",
      "Requirement already satisfied: tzdata>=2022.7 in /opt/conda/lib/python3.10/site-packages (from pandas->datasets) (2024.1)\r\n",
      "Requirement already satisfied: six>=1.5 in /opt/conda/lib/python3.10/site-packages (from python-dateutil>=2.8.2->pandas->datasets) (1.16.0)\r\n"
     ]
    }
   ],
   "source": [
    "!pip install datasets\n"
   ]
  },
  {
   "cell_type": "code",
   "execution_count": 20,
   "id": "1026fa58",
   "metadata": {
    "execution": {
     "iopub.execute_input": "2024-11-10T04:36:28.326572Z",
     "iopub.status.busy": "2024-11-10T04:36:28.326215Z",
     "iopub.status.idle": "2024-11-10T04:36:47.293416Z",
     "shell.execute_reply": "2024-11-10T04:36:47.292645Z"
    },
    "papermill": {
     "duration": 18.984637,
     "end_time": "2024-11-10T04:36:47.295677",
     "exception": false,
     "start_time": "2024-11-10T04:36:28.311040",
     "status": "completed"
    },
    "tags": []
   },
   "outputs": [],
   "source": [
    "# Import necessary libraries\n",
    "import pandas as pd\n",
    "from sklearn.model_selection import train_test_split\n",
    "from transformers import AutoTokenizer, AutoModelForSequenceClassification, Trainer, TrainingArguments\n",
    "import torch\n",
    "from datasets import Dataset\n",
    "from sklearn.metrics import accuracy_score, precision_recall_fscore_support"
   ]
  },
  {
   "cell_type": "code",
   "execution_count": 21,
   "id": "f02add75",
   "metadata": {
    "execution": {
     "iopub.execute_input": "2024-11-10T04:36:47.326100Z",
     "iopub.status.busy": "2024-11-10T04:36:47.325236Z",
     "iopub.status.idle": "2024-11-10T04:36:47.615320Z",
     "shell.execute_reply": "2024-11-10T04:36:47.614549Z"
    },
    "papermill": {
     "duration": 0.307254,
     "end_time": "2024-11-10T04:36:47.617512",
     "exception": false,
     "start_time": "2024-11-10T04:36:47.310258",
     "status": "completed"
    },
    "tags": []
   },
   "outputs": [],
   "source": [
    "df = pd.read_csv('/kaggle/input/over-11500-bangla-news-for-nlp/Bangla_news.csv')"
   ]
  },
  {
   "cell_type": "code",
   "execution_count": 22,
   "id": "1ec7d19e",
   "metadata": {
    "execution": {
     "iopub.execute_input": "2024-11-10T04:36:47.647193Z",
     "iopub.status.busy": "2024-11-10T04:36:47.646870Z",
     "iopub.status.idle": "2024-11-10T04:36:47.657320Z",
     "shell.execute_reply": "2024-11-10T04:36:47.656482Z"
    },
    "papermill": {
     "duration": 0.027302,
     "end_time": "2024-11-10T04:36:47.659188",
     "exception": false,
     "start_time": "2024-11-10T04:36:47.631886",
     "status": "completed"
    },
    "tags": []
   },
   "outputs": [],
   "source": [
    "# Step 4: Data Preprocessing\n",
    "df_clean = df[['content', 'category']].dropna()"
   ]
  },
  {
   "cell_type": "code",
   "execution_count": 23,
   "id": "5046ef3c",
   "metadata": {
    "execution": {
     "iopub.execute_input": "2024-11-10T04:36:47.687971Z",
     "iopub.status.busy": "2024-11-10T04:36:47.687656Z",
     "iopub.status.idle": "2024-11-10T04:36:47.699199Z",
     "shell.execute_reply": "2024-11-10T04:36:47.698534Z"
    },
    "papermill": {
     "duration": 0.027958,
     "end_time": "2024-11-10T04:36:47.700970",
     "exception": false,
     "start_time": "2024-11-10T04:36:47.673012",
     "status": "completed"
    },
    "tags": []
   },
   "outputs": [],
   "source": [
    "# Step 5: Split into Training and Validation Sets\n",
    "train_texts, val_texts, train_labels, val_labels = train_test_split(\n",
    "    df_clean['content'].tolist(), \n",
    "    df_clean['category'].tolist(), \n",
    "    test_size=0.2, \n",
    "    random_state=42\n",
    ")"
   ]
  },
  {
   "cell_type": "code",
   "execution_count": 24,
   "id": "291cbadc",
   "metadata": {
    "execution": {
     "iopub.execute_input": "2024-11-10T04:36:47.729469Z",
     "iopub.status.busy": "2024-11-10T04:36:47.729210Z",
     "iopub.status.idle": "2024-11-10T04:36:47.733564Z",
     "shell.execute_reply": "2024-11-10T04:36:47.732766Z"
    },
    "papermill": {
     "duration": 0.020722,
     "end_time": "2024-11-10T04:36:47.735413",
     "exception": false,
     "start_time": "2024-11-10T04:36:47.714691",
     "status": "completed"
    },
    "tags": []
   },
   "outputs": [],
   "source": [
    "# Step 6: Encode Labels\n",
    "label_to_id = {label: idx for idx, label in enumerate(set(train_labels))}\n",
    "id_to_label = {idx: label for label, idx in label_to_id.items()}"
   ]
  },
  {
   "cell_type": "code",
   "execution_count": 25,
   "id": "8c7e7040",
   "metadata": {
    "execution": {
     "iopub.execute_input": "2024-11-10T04:36:47.764273Z",
     "iopub.status.busy": "2024-11-10T04:36:47.763772Z",
     "iopub.status.idle": "2024-11-10T04:36:47.768673Z",
     "shell.execute_reply": "2024-11-10T04:36:47.767831Z"
    },
    "papermill": {
     "duration": 0.021452,
     "end_time": "2024-11-10T04:36:47.770618",
     "exception": false,
     "start_time": "2024-11-10T04:36:47.749166",
     "status": "completed"
    },
    "tags": []
   },
   "outputs": [],
   "source": [
    "train_labels_enc = [label_to_id[label] for label in train_labels]\n",
    "val_labels_enc = [label_to_id[label] for label in val_labels]"
   ]
  },
  {
   "cell_type": "code",
   "execution_count": 26,
   "id": "0a24b576",
   "metadata": {
    "execution": {
     "iopub.execute_input": "2024-11-10T04:36:47.800095Z",
     "iopub.status.busy": "2024-11-10T04:36:47.799320Z",
     "iopub.status.idle": "2024-11-10T04:36:47.804036Z",
     "shell.execute_reply": "2024-11-10T04:36:47.803141Z"
    },
    "papermill": {
     "duration": 0.021543,
     "end_time": "2024-11-10T04:36:47.805973",
     "exception": false,
     "start_time": "2024-11-10T04:36:47.784430",
     "status": "completed"
    },
    "tags": []
   },
   "outputs": [
    {
     "name": "stdout",
     "output_type": "stream",
     "text": [
      "{'national': 0, 'sports': 1, 'entertainment': 2, 'international': 3}\n"
     ]
    }
   ],
   "source": [
    "print(label_to_id)"
   ]
  },
  {
   "cell_type": "code",
   "execution_count": 27,
   "id": "d307baa1",
   "metadata": {
    "execution": {
     "iopub.execute_input": "2024-11-10T04:36:47.835315Z",
     "iopub.status.busy": "2024-11-10T04:36:47.835029Z",
     "iopub.status.idle": "2024-11-10T04:36:47.838759Z",
     "shell.execute_reply": "2024-11-10T04:36:47.837922Z"
    },
    "papermill": {
     "duration": 0.020653,
     "end_time": "2024-11-10T04:36:47.840596",
     "exception": false,
     "start_time": "2024-11-10T04:36:47.819943",
     "status": "completed"
    },
    "tags": []
   },
   "outputs": [],
   "source": [
    "import os\n",
    "os.environ[\"WANDB_MODE\"] = \"disabled\"  # Disable Weights & Biases logging"
   ]
  },
  {
   "cell_type": "code",
   "execution_count": 28,
   "id": "87a44b4d",
   "metadata": {
    "execution": {
     "iopub.execute_input": "2024-11-10T04:36:47.869379Z",
     "iopub.status.busy": "2024-11-10T04:36:47.869101Z",
     "iopub.status.idle": "2024-11-10T04:36:47.939110Z",
     "shell.execute_reply": "2024-11-10T04:36:47.938164Z"
    },
    "papermill": {
     "duration": 0.086611,
     "end_time": "2024-11-10T04:36:47.941102",
     "exception": false,
     "start_time": "2024-11-10T04:36:47.854491",
     "status": "completed"
    },
    "tags": []
   },
   "outputs": [],
   "source": [
    "device = torch.device('cuda' if torch.cuda.is_available() else 'cpu')"
   ]
  },
  {
   "cell_type": "code",
   "execution_count": 29,
   "id": "d98bb332",
   "metadata": {
    "execution": {
     "iopub.execute_input": "2024-11-10T04:36:47.970445Z",
     "iopub.status.busy": "2024-11-10T04:36:47.970125Z",
     "iopub.status.idle": "2024-11-10T04:36:49.080093Z",
     "shell.execute_reply": "2024-11-10T04:36:49.079148Z"
    },
    "papermill": {
     "duration": 1.127201,
     "end_time": "2024-11-10T04:36:49.082484",
     "exception": false,
     "start_time": "2024-11-10T04:36:47.955283",
     "status": "completed"
    },
    "tags": []
   },
   "outputs": [
    {
     "data": {
      "application/vnd.jupyter.widget-view+json": {
       "model_id": "757291fa819149ae82a929b82ca1b9b9",
       "version_major": 2,
       "version_minor": 0
      },
      "text/plain": [
       "tokenizer_config.json:   0%|          | 0.00/49.0 [00:00<?, ?B/s]"
      ]
     },
     "metadata": {},
     "output_type": "display_data"
    },
    {
     "data": {
      "application/vnd.jupyter.widget-view+json": {
       "model_id": "97128f7d16994ad089eed0d66978544b",
       "version_major": 2,
       "version_minor": 0
      },
      "text/plain": [
       "config.json:   0%|          | 0.00/625 [00:00<?, ?B/s]"
      ]
     },
     "metadata": {},
     "output_type": "display_data"
    },
    {
     "data": {
      "application/vnd.jupyter.widget-view+json": {
       "model_id": "ecbf6b988b6544e2b67d68201e414cae",
       "version_major": 2,
       "version_minor": 0
      },
      "text/plain": [
       "vocab.txt:   0%|          | 0.00/996k [00:00<?, ?B/s]"
      ]
     },
     "metadata": {},
     "output_type": "display_data"
    },
    {
     "data": {
      "application/vnd.jupyter.widget-view+json": {
       "model_id": "44d3c52773e54a8f951e26d2437ef44e",
       "version_major": 2,
       "version_minor": 0
      },
      "text/plain": [
       "tokenizer.json:   0%|          | 0.00/1.96M [00:00<?, ?B/s]"
      ]
     },
     "metadata": {},
     "output_type": "display_data"
    },
    {
     "name": "stderr",
     "output_type": "stream",
     "text": [
      "/opt/conda/lib/python3.10/site-packages/transformers/tokenization_utils_base.py:1617: FutureWarning: `clean_up_tokenization_spaces` was not set. It will be set to `True` by default. This behavior will be deprecated in transformers v4.45, and will be then set to `False` by default. For more details check this issue: https://github.com/huggingface/transformers/issues/31884\n",
      "  warnings.warn(\n"
     ]
    }
   ],
   "source": [
    "# Step 7: Tokenize the Data\n",
    "model_name = \"bert-base-multilingual-cased\"  # Multilingual BERT model\n",
    "tokenizer = AutoTokenizer.from_pretrained(model_name)"
   ]
  },
  {
   "cell_type": "code",
   "execution_count": 30,
   "id": "51196c18",
   "metadata": {
    "execution": {
     "iopub.execute_input": "2024-11-10T04:36:49.113914Z",
     "iopub.status.busy": "2024-11-10T04:36:49.113559Z",
     "iopub.status.idle": "2024-11-10T04:36:52.477330Z",
     "shell.execute_reply": "2024-11-10T04:36:52.476517Z"
    },
    "papermill": {
     "duration": 3.381787,
     "end_time": "2024-11-10T04:36:52.479717",
     "exception": false,
     "start_time": "2024-11-10T04:36:49.097930",
     "status": "completed"
    },
    "tags": []
   },
   "outputs": [],
   "source": [
    "train_encodings = tokenizer(train_texts, truncation=True, padding=True, max_length=512)\n",
    "val_encodings = tokenizer(val_texts, truncation=True, padding=True, max_length=512)"
   ]
  },
  {
   "cell_type": "code",
   "execution_count": 31,
   "id": "1cc14be4",
   "metadata": {
    "execution": {
     "iopub.execute_input": "2024-11-10T04:36:52.512902Z",
     "iopub.status.busy": "2024-11-10T04:36:52.512282Z",
     "iopub.status.idle": "2024-11-10T04:36:52.518928Z",
     "shell.execute_reply": "2024-11-10T04:36:52.518020Z"
    },
    "papermill": {
     "duration": 0.025767,
     "end_time": "2024-11-10T04:36:52.520803",
     "exception": false,
     "start_time": "2024-11-10T04:36:52.495036",
     "status": "completed"
    },
    "tags": []
   },
   "outputs": [],
   "source": [
    "# Step 8: Create PyTorch Dataset Class\n",
    "class NewsDataset(torch.utils.data.Dataset):\n",
    "    def __init__(self, encodings, labels):\n",
    "        self.encodings = encodings\n",
    "        self.labels = labels\n",
    "\n",
    "    def __len__(self):\n",
    "        return len(self.labels)\n",
    "\n",
    "    def __getitem__(self, idx):\n",
    "        item = {key: torch.tensor(val[idx]) for key, val in self.encodings.items()}\n",
    "        item['labels'] = torch.tensor(self.labels[idx])\n",
    "        return item"
   ]
  },
  {
   "cell_type": "code",
   "execution_count": 32,
   "id": "0792483c",
   "metadata": {
    "execution": {
     "iopub.execute_input": "2024-11-10T04:36:52.552108Z",
     "iopub.status.busy": "2024-11-10T04:36:52.551805Z",
     "iopub.status.idle": "2024-11-10T04:36:52.556047Z",
     "shell.execute_reply": "2024-11-10T04:36:52.555168Z"
    },
    "papermill": {
     "duration": 0.021836,
     "end_time": "2024-11-10T04:36:52.558010",
     "exception": false,
     "start_time": "2024-11-10T04:36:52.536174",
     "status": "completed"
    },
    "tags": []
   },
   "outputs": [],
   "source": [
    "# Create Dataset Objects\n",
    "train_dataset = NewsDataset(train_encodings, train_labels_enc)\n",
    "val_dataset = NewsDataset(val_encodings, val_labels_enc)"
   ]
  },
  {
   "cell_type": "code",
   "execution_count": 33,
   "id": "47d25c80",
   "metadata": {
    "execution": {
     "iopub.execute_input": "2024-11-10T04:36:52.588908Z",
     "iopub.status.busy": "2024-11-10T04:36:52.588219Z",
     "iopub.status.idle": "2024-11-10T04:36:56.861724Z",
     "shell.execute_reply": "2024-11-10T04:36:56.860896Z"
    },
    "papermill": {
     "duration": 4.291384,
     "end_time": "2024-11-10T04:36:56.864030",
     "exception": false,
     "start_time": "2024-11-10T04:36:52.572646",
     "status": "completed"
    },
    "tags": []
   },
   "outputs": [
    {
     "data": {
      "application/vnd.jupyter.widget-view+json": {
       "model_id": "9ffe6bd17d344d7f8a73f0d606126c27",
       "version_major": 2,
       "version_minor": 0
      },
      "text/plain": [
       "model.safetensors:   0%|          | 0.00/714M [00:00<?, ?B/s]"
      ]
     },
     "metadata": {},
     "output_type": "display_data"
    },
    {
     "name": "stderr",
     "output_type": "stream",
     "text": [
      "Some weights of BertForSequenceClassification were not initialized from the model checkpoint at bert-base-multilingual-cased and are newly initialized: ['classifier.bias', 'classifier.weight']\n",
      "You should probably TRAIN this model on a down-stream task to be able to use it for predictions and inference.\n"
     ]
    }
   ],
   "source": [
    "\n",
    "# Step 9: Load Pretrained Model\n",
    "model = AutoModelForSequenceClassification.from_pretrained(\n",
    "    model_name, num_labels=len(label_to_id)\n",
    ").to(device)\n",
    "\n"
   ]
  },
  {
   "cell_type": "code",
   "execution_count": 34,
   "id": "54132744",
   "metadata": {
    "execution": {
     "iopub.execute_input": "2024-11-10T04:36:56.896149Z",
     "iopub.status.busy": "2024-11-10T04:36:56.895848Z",
     "iopub.status.idle": "2024-11-10T04:36:56.901378Z",
     "shell.execute_reply": "2024-11-10T04:36:56.900478Z"
    },
    "papermill": {
     "duration": 0.023451,
     "end_time": "2024-11-10T04:36:56.903272",
     "exception": false,
     "start_time": "2024-11-10T04:36:56.879821",
     "status": "completed"
    },
    "tags": []
   },
   "outputs": [],
   "source": [
    "# Step 10: Define Metrics\n",
    "def compute_metrics(pred):\n",
    "    labels = pred.label_ids\n",
    "    preds = pred.predictions.argmax(-1)\n",
    "    precision, recall, f1, _ = precision_recall_fscore_support(labels, preds, average='weighted')\n",
    "    acc = accuracy_score(labels, preds)\n",
    "    return {\n",
    "        'accuracy': acc,\n",
    "        'f1': f1,\n",
    "        'precision': precision,\n",
    "        'recall': recall\n",
    "    }"
   ]
  },
  {
   "cell_type": "code",
   "execution_count": 35,
   "id": "c2895832",
   "metadata": {
    "execution": {
     "iopub.execute_input": "2024-11-10T04:36:56.934157Z",
     "iopub.status.busy": "2024-11-10T04:36:56.933862Z",
     "iopub.status.idle": "2024-11-10T04:36:56.971324Z",
     "shell.execute_reply": "2024-11-10T04:36:56.970252Z"
    },
    "papermill": {
     "duration": 0.055095,
     "end_time": "2024-11-10T04:36:56.973232",
     "exception": false,
     "start_time": "2024-11-10T04:36:56.918137",
     "status": "completed"
    },
    "tags": []
   },
   "outputs": [
    {
     "name": "stderr",
     "output_type": "stream",
     "text": [
      "/opt/conda/lib/python3.10/site-packages/transformers/training_args.py:1545: FutureWarning: `evaluation_strategy` is deprecated and will be removed in version 4.46 of 🤗 Transformers. Use `eval_strategy` instead\n",
      "  warnings.warn(\n"
     ]
    }
   ],
   "source": [
    "# Step 11: Set Training Arguments\n",
    "training_args = TrainingArguments(\n",
    "    output_dir='./results',          \n",
    "    evaluation_strategy=\"epoch\",     \n",
    "    learning_rate=2e-5,             \n",
    "    per_device_train_batch_size=8,   \n",
    "    per_device_eval_batch_size=8,    \n",
    "    num_train_epochs=1,              \n",
    "    weight_decay=0.01,               \n",
    "    logging_dir='./logs',            \n",
    "    logging_steps=10,\n",
    "    save_total_limit=1,              \n",
    ")"
   ]
  },
  {
   "cell_type": "code",
   "execution_count": 36,
   "id": "ae88a0e5",
   "metadata": {
    "execution": {
     "iopub.execute_input": "2024-11-10T04:36:57.005307Z",
     "iopub.status.busy": "2024-11-10T04:36:57.005012Z",
     "iopub.status.idle": "2024-11-10T04:36:57.818118Z",
     "shell.execute_reply": "2024-11-10T04:36:57.817207Z"
    },
    "papermill": {
     "duration": 0.831542,
     "end_time": "2024-11-10T04:36:57.820500",
     "exception": false,
     "start_time": "2024-11-10T04:36:56.988958",
     "status": "completed"
    },
    "tags": []
   },
   "outputs": [],
   "source": [
    "# Step 12: Initialize Trainer\n",
    "trainer = Trainer(\n",
    "    model=model,                         \n",
    "    args=training_args,                 \n",
    "    train_dataset=train_dataset,         \n",
    "    eval_dataset=val_dataset,            \n",
    "    compute_metrics=compute_metrics      \n",
    ")"
   ]
  },
  {
   "cell_type": "code",
   "execution_count": 37,
   "id": "eac990db",
   "metadata": {
    "execution": {
     "iopub.execute_input": "2024-11-10T04:36:57.852886Z",
     "iopub.status.busy": "2024-11-10T04:36:57.852552Z",
     "iopub.status.idle": "2024-11-10T04:47:14.089038Z",
     "shell.execute_reply": "2024-11-10T04:47:14.087930Z"
    },
    "papermill": {
     "duration": 616.254866,
     "end_time": "2024-11-10T04:47:14.091234",
     "exception": false,
     "start_time": "2024-11-10T04:36:57.836368",
     "status": "completed"
    },
    "tags": []
   },
   "outputs": [
    {
     "name": "stderr",
     "output_type": "stream",
     "text": [
      "\u001b[34m\u001b[1mwandb\u001b[0m: \u001b[33mWARNING\u001b[0m The `run_name` is currently set to the same value as `TrainingArguments.output_dir`. If this was not intended, please specify a different run name by setting the `TrainingArguments.run_name` parameter.\n",
      "/opt/conda/lib/python3.10/site-packages/torch/nn/parallel/parallel_apply.py:79: FutureWarning: `torch.cuda.amp.autocast(args...)` is deprecated. Please use `torch.amp.autocast('cuda', args...)` instead.\n",
      "  with torch.cuda.device(device), torch.cuda.stream(stream), autocast(enabled=autocast_enabled):\n",
      "/opt/conda/lib/python3.10/site-packages/torch/nn/parallel/_functions.py:68: UserWarning: Was asked to gather along dimension 0, but all input tensors were scalars; will instead unsqueeze and return a vector.\n",
      "  warnings.warn('Was asked to gather along dimension 0, but all '\n"
     ]
    },
    {
     "data": {
      "text/html": [
       "\n",
       "    <div>\n",
       "      \n",
       "      <progress value='596' max='596' style='width:300px; height:20px; vertical-align: middle;'></progress>\n",
       "      [596/596 10:12, Epoch 1/1]\n",
       "    </div>\n",
       "    <table border=\"1\" class=\"dataframe\">\n",
       "  <thead>\n",
       " <tr style=\"text-align: left;\">\n",
       "      <th>Epoch</th>\n",
       "      <th>Training Loss</th>\n",
       "      <th>Validation Loss</th>\n",
       "      <th>Accuracy</th>\n",
       "      <th>F1</th>\n",
       "      <th>Precision</th>\n",
       "      <th>Recall</th>\n",
       "    </tr>\n",
       "  </thead>\n",
       "  <tbody>\n",
       "    <tr>\n",
       "      <td>1</td>\n",
       "      <td>0.172900</td>\n",
       "      <td>0.183745</td>\n",
       "      <td>0.949181</td>\n",
       "      <td>0.949155</td>\n",
       "      <td>0.949447</td>\n",
       "      <td>0.949181</td>\n",
       "    </tr>\n",
       "  </tbody>\n",
       "</table><p>"
      ],
      "text/plain": [
       "<IPython.core.display.HTML object>"
      ]
     },
     "metadata": {},
     "output_type": "display_data"
    },
    {
     "name": "stderr",
     "output_type": "stream",
     "text": [
      "/opt/conda/lib/python3.10/site-packages/torch/nn/parallel/parallel_apply.py:79: FutureWarning: `torch.cuda.amp.autocast(args...)` is deprecated. Please use `torch.amp.autocast('cuda', args...)` instead.\n",
      "  with torch.cuda.device(device), torch.cuda.stream(stream), autocast(enabled=autocast_enabled):\n",
      "/opt/conda/lib/python3.10/site-packages/torch/nn/parallel/_functions.py:68: UserWarning: Was asked to gather along dimension 0, but all input tensors were scalars; will instead unsqueeze and return a vector.\n",
      "  warnings.warn('Was asked to gather along dimension 0, but all '\n",
      "/opt/conda/lib/python3.10/site-packages/torch/nn/parallel/parallel_apply.py:79: FutureWarning: `torch.cuda.amp.autocast(args...)` is deprecated. Please use `torch.amp.autocast('cuda', args...)` instead.\n",
      "  with torch.cuda.device(device), torch.cuda.stream(stream), autocast(enabled=autocast_enabled):\n",
      "/opt/conda/lib/python3.10/site-packages/torch/nn/parallel/_functions.py:68: UserWarning: Was asked to gather along dimension 0, but all input tensors were scalars; will instead unsqueeze and return a vector.\n",
      "  warnings.warn('Was asked to gather along dimension 0, but all '\n"
     ]
    },
    {
     "data": {
      "text/plain": [
       "TrainOutput(global_step=596, training_loss=0.3052714454047632, metrics={'train_runtime': 614.6896, 'train_samples_per_second': 15.492, 'train_steps_per_second': 0.97, 'total_flos': 2505651573854208.0, 'train_loss': 0.3052714454047632, 'epoch': 1.0})"
      ]
     },
     "execution_count": 37,
     "metadata": {},
     "output_type": "execute_result"
    }
   ],
   "source": [
    "# Step 13: Train the Model\n",
    "trainer.train()"
   ]
  },
  {
   "cell_type": "code",
   "execution_count": 38,
   "id": "0b589503",
   "metadata": {
    "execution": {
     "iopub.execute_input": "2024-11-10T04:47:14.125285Z",
     "iopub.status.busy": "2024-11-10T04:47:14.124969Z",
     "iopub.status.idle": "2024-11-10T04:47:58.397764Z",
     "shell.execute_reply": "2024-11-10T04:47:58.396661Z"
    },
    "papermill": {
     "duration": 44.29192,
     "end_time": "2024-11-10T04:47:58.399733",
     "exception": false,
     "start_time": "2024-11-10T04:47:14.107813",
     "status": "completed"
    },
    "tags": []
   },
   "outputs": [
    {
     "name": "stderr",
     "output_type": "stream",
     "text": [
      "/opt/conda/lib/python3.10/site-packages/torch/nn/parallel/parallel_apply.py:79: FutureWarning: `torch.cuda.amp.autocast(args...)` is deprecated. Please use `torch.amp.autocast('cuda', args...)` instead.\n",
      "  with torch.cuda.device(device), torch.cuda.stream(stream), autocast(enabled=autocast_enabled):\n",
      "/opt/conda/lib/python3.10/site-packages/torch/nn/parallel/_functions.py:68: UserWarning: Was asked to gather along dimension 0, but all input tensors were scalars; will instead unsqueeze and return a vector.\n",
      "  warnings.warn('Was asked to gather along dimension 0, but all '\n"
     ]
    },
    {
     "data": {
      "text/html": [],
      "text/plain": [
       "<IPython.core.display.HTML object>"
      ]
     },
     "metadata": {},
     "output_type": "display_data"
    },
    {
     "name": "stdout",
     "output_type": "stream",
     "text": [
      "{'eval_loss': 0.18374517560005188, 'eval_accuracy': 0.9491810163796724, 'eval_f1': 0.9491545927329772, 'eval_precision': 0.9494471924026435, 'eval_recall': 0.9491810163796724, 'eval_runtime': 44.2645, 'eval_samples_per_second': 53.79, 'eval_steps_per_second': 3.366, 'epoch': 1.0}\n"
     ]
    }
   ],
   "source": [
    "# Step 14: Evaluate the Model\n",
    "results = trainer.evaluate()\n",
    "print(results)"
   ]
  },
  {
   "cell_type": "code",
   "execution_count": 39,
   "id": "49d88677",
   "metadata": {
    "execution": {
     "iopub.execute_input": "2024-11-10T04:47:58.434863Z",
     "iopub.status.busy": "2024-11-10T04:47:58.434302Z",
     "iopub.status.idle": "2024-11-10T04:47:58.440323Z",
     "shell.execute_reply": "2024-11-10T04:47:58.439445Z"
    },
    "papermill": {
     "duration": 0.02567,
     "end_time": "2024-11-10T04:47:58.442586",
     "exception": false,
     "start_time": "2024-11-10T04:47:58.416916",
     "status": "completed"
    },
    "tags": []
   },
   "outputs": [
    {
     "name": "stdout",
     "output_type": "stream",
     "text": [
      "BertForSequenceClassification(\n",
      "  (bert): BertModel(\n",
      "    (embeddings): BertEmbeddings(\n",
      "      (word_embeddings): Embedding(119547, 768, padding_idx=0)\n",
      "      (position_embeddings): Embedding(512, 768)\n",
      "      (token_type_embeddings): Embedding(2, 768)\n",
      "      (LayerNorm): LayerNorm((768,), eps=1e-12, elementwise_affine=True)\n",
      "      (dropout): Dropout(p=0.1, inplace=False)\n",
      "    )\n",
      "    (encoder): BertEncoder(\n",
      "      (layer): ModuleList(\n",
      "        (0-11): 12 x BertLayer(\n",
      "          (attention): BertAttention(\n",
      "            (self): BertSdpaSelfAttention(\n",
      "              (query): Linear(in_features=768, out_features=768, bias=True)\n",
      "              (key): Linear(in_features=768, out_features=768, bias=True)\n",
      "              (value): Linear(in_features=768, out_features=768, bias=True)\n",
      "              (dropout): Dropout(p=0.1, inplace=False)\n",
      "            )\n",
      "            (output): BertSelfOutput(\n",
      "              (dense): Linear(in_features=768, out_features=768, bias=True)\n",
      "              (LayerNorm): LayerNorm((768,), eps=1e-12, elementwise_affine=True)\n",
      "              (dropout): Dropout(p=0.1, inplace=False)\n",
      "            )\n",
      "          )\n",
      "          (intermediate): BertIntermediate(\n",
      "            (dense): Linear(in_features=768, out_features=3072, bias=True)\n",
      "            (intermediate_act_fn): GELUActivation()\n",
      "          )\n",
      "          (output): BertOutput(\n",
      "            (dense): Linear(in_features=3072, out_features=768, bias=True)\n",
      "            (LayerNorm): LayerNorm((768,), eps=1e-12, elementwise_affine=True)\n",
      "            (dropout): Dropout(p=0.1, inplace=False)\n",
      "          )\n",
      "        )\n",
      "      )\n",
      "    )\n",
      "    (pooler): BertPooler(\n",
      "      (dense): Linear(in_features=768, out_features=768, bias=True)\n",
      "      (activation): Tanh()\n",
      "    )\n",
      "  )\n",
      "  (dropout): Dropout(p=0.1, inplace=False)\n",
      "  (classifier): Linear(in_features=768, out_features=4, bias=True)\n",
      ")\n"
     ]
    }
   ],
   "source": [
    "print(model)"
   ]
  },
  {
   "cell_type": "code",
   "execution_count": 40,
   "id": "442e9693",
   "metadata": {
    "execution": {
     "iopub.execute_input": "2024-11-10T04:47:58.477285Z",
     "iopub.status.busy": "2024-11-10T04:47:58.477008Z",
     "iopub.status.idle": "2024-11-10T04:47:58.502665Z",
     "shell.execute_reply": "2024-11-10T04:47:58.501740Z"
    },
    "papermill": {
     "duration": 0.045091,
     "end_time": "2024-11-10T04:47:58.504616",
     "exception": false,
     "start_time": "2024-11-10T04:47:58.459525",
     "status": "completed"
    },
    "tags": []
   },
   "outputs": [
    {
     "name": "stdout",
     "output_type": "stream",
     "text": [
      "Predicted Class: Class 1\n"
     ]
    }
   ],
   "source": [
    "text = \"প্যারিস অলিম্পিক যেন হয়ে উঠেছে ভুলের আসর\"\n",
    "inputs = tokenizer(text, return_tensors=\"pt\", padding=True, truncation=True, max_length=512).to(device)\n",
    "\n",
    "with torch.no_grad():\n",
    "    outputs = model(**inputs)\n",
    "\n",
    "logits = outputs.logits\n",
    "predicted_class = torch.argmax(logits, dim=1).item()\n",
    "\n",
    "id_to_label = {0: \"Class 0\", 1: \"Class 1\", 2: \"Class 2\", 3: \"Class 3\"}\n",
    "print(f\"Predicted Class: {id_to_label[predicted_class]}\")"
   ]
  },
  {
   "cell_type": "code",
   "execution_count": 41,
   "id": "6ffbe2a0",
   "metadata": {
    "execution": {
     "iopub.execute_input": "2024-11-10T04:47:58.539936Z",
     "iopub.status.busy": "2024-11-10T04:47:58.539608Z",
     "iopub.status.idle": "2024-11-10T04:48:43.981605Z",
     "shell.execute_reply": "2024-11-10T04:48:43.980749Z"
    },
    "papermill": {
     "duration": 45.461972,
     "end_time": "2024-11-10T04:48:43.983676",
     "exception": false,
     "start_time": "2024-11-10T04:47:58.521704",
     "status": "completed"
    },
    "tags": []
   },
   "outputs": [
    {
     "name": "stderr",
     "output_type": "stream",
     "text": [
      "/opt/conda/lib/python3.10/site-packages/torch/nn/parallel/parallel_apply.py:79: FutureWarning: `torch.cuda.amp.autocast(args...)` is deprecated. Please use `torch.amp.autocast('cuda', args...)` instead.\n",
      "  with torch.cuda.device(device), torch.cuda.stream(stream), autocast(enabled=autocast_enabled):\n",
      "/opt/conda/lib/python3.10/site-packages/torch/nn/parallel/_functions.py:68: UserWarning: Was asked to gather along dimension 0, but all input tensors were scalars; will instead unsqueeze and return a vector.\n",
      "  warnings.warn('Was asked to gather along dimension 0, but all '\n"
     ]
    },
    {
     "data": {
      "image/png": "[encoded data removed]",
      "text/plain": [
       "<Figure size 1000x800 with 2 Axes>"
      ]
     },
     "metadata": {},
     "output_type": "display_data"
    }
   ],
   "source": [
    "from sklearn.metrics import confusion_matrix\n",
    "import matplotlib.pyplot as plt\n",
    "import seaborn as sns\n",
    "import numpy as np\n",
    "\n",
    "predictions = trainer.predict(val_dataset)\n",
    "\n",
    "pred_labels = predictions.predictions.argmax(-1)\n",
    "true_labels = predictions.label_ids\n",
    "\n",
    "conf_matrix = confusion_matrix(true_labels, pred_labels)\n",
    "\n",
    "plt.figure(figsize=(10, 8))\n",
    "sns.heatmap(conf_matrix, annot=True, fmt='d', cmap='Blues', \n",
    "            xticklabels=[id_to_label[i] for i in range(len(id_to_label))], \n",
    "            yticklabels=[id_to_label[i] for i in range(len(id_to_label))])\n",
    "plt.xlabel('Predicted Labels')\n",
    "plt.ylabel('True Labels')\n",
    "plt.title('Confusion Matrix')\n",
    "plt.show()\n"
   ]
  },
  {
   "cell_type": "code",
   "execution_count": null,
   "id": "75d73489",
   "metadata": {
    "papermill": {
     "duration": 0.017082,
     "end_time": "2024-11-10T04:48:44.018529",
     "exception": false,
     "start_time": "2024-11-10T04:48:44.001447",
     "status": "completed"
    },
    "tags": []
   },
   "outputs": [],
   "source": []
  }
 ],
 "metadata": {
  "kaggle": {
   "accelerator": "nvidiaTeslaT4",
   "dataSources": [
    {
     "datasetId": 5477284,
     "sourceId": 9079113,
     "sourceType": "datasetVersion"
    }
   ],
   "dockerImageVersionId": 30786,
   "isGpuEnabled": true,
   "isInternetEnabled": true,
   "language": "python",
   "sourceType": "notebook"
  },
  "kernelspec": {
   "display_name": "Python 3",
   "language": "python",
   "name": "python3"
  },
  "language_info": {
   "codemirror_mode": {
    "name": "ipython",
    "version": 3
   },
   "file_extension": ".py",
   "mimetype": "text/x-python",
   "name": "python",
   "nbconvert_exporter": "python",
   "pygments_lexer": "ipython3",
   "version": "3.10.14"
  },
  "papermill": {
   "default_parameters": {},
   "duration": 758.898738,
   "end_time": "2024-11-10T04:48:47.778639",
   "environment_variables": {},
   "exception": null,
   "input_path": "__notebook__.ipynb",
   "output_path": "__notebook__.ipynb",
   "parameters": {},
   "start_time": "2024-11-10T04:36:08.879901",
   "version": "2.6.0"
  },
  "widgets": {
   "application/vnd.jupyter.widget-state+json": {
    "state": {
     "0dc2b3dbb7fe43c3967a6b46e588256e": {
      "model_module": "@jupyter-widgets/controls",
      "model_module_version": "1.5.0",
      "model_name": "FloatProgressModel",
      "state": {
       "_dom_classes": [],
       "_model_module": "@jupyter-widgets/controls",
       "_model_module_version": "1.5.0",
       "_model_name": "FloatProgressModel",
       "_view_count": null,
       "_view_module": "@jupyter-widgets/controls",
       "_view_module_version": "1.5.0",
       "_view_name": "ProgressView",
       "bar_style": "success",
       "description": "",
       "description_tooltip": null,
       "layout": "IPY_MODEL_4a3a70ace95c4ae7a1b92f4060b9feb7",
       "max": 49.0,
       "min": 0.0,
       "orientation": "horizontal",
       "style": "IPY_MODEL_3ca2e9775d6a4d99821f076a12a664fd",
       "value": 49.0
      }
     },
     "0ef88ec8756748dc9a3fc96f00effc8e": {
      "model_module": "@jupyter-widgets/base",
      "model_module_version": "1.2.0",
      "model_name": "LayoutModel",
      "state": {
       "_model_module": "@jupyter-widgets/base",
       "_model_module_version": "1.2.0",
       "_model_name": "LayoutModel",
       "_view_count": null,
       "_view_module": "@jupyter-widgets/base",
       "_view_module_version": "1.2.0",
       "_view_name": "LayoutView",
       "align_content": null,
       "align_items": null,
       "align_self": null,
       "border": null,
       "bottom": null,
       "display": null,
       "flex": null,
       "flex_flow": null,
       "grid_area": null,
       "grid_auto_columns": null,
       "grid_auto_flow": null,
       "grid_auto_rows": null,
       "grid_column": null,
       "grid_gap": null,
       "grid_row": null,
       "grid_template_areas": null,
       "grid_template_columns": null,
       "grid_template_rows": null,
       "height": null,
       "justify_content": null,
       "justify_items": null,
       "left": null,
       "margin": null,
       "max_height": null,
       "max_width": null,
       "min_height": null,
       "min_width": null,
       "object_fit": null,
       "object_position": null,
       "order": null,
       "overflow": null,
       "overflow_x": null,
       "overflow_y": null,
       "padding": null,
       "right": null,
       "top": null,
       "visibility": null,
       "width": null
      }
     },
     "15b27b69a0314a8793dbef4c8c28640f": {
      "model_module": "@jupyter-widgets/controls",
      "model_module_version": "1.5.0",
      "model_name": "DescriptionStyleModel",
      "state": {
       "_model_module": "@jupyter-widgets/controls",
       "_model_module_version": "1.5.0",
       "_model_name": "DescriptionStyleModel",
       "_view_count": null,
       "_view_module": "@jupyter-widgets/base",
       "_view_module_version": "1.2.0",
       "_view_name": "StyleView",
       "description_width": ""
      }
     },
     "1ea4031b756944f3b2c44f5f04376b4b": {
      "model_module": "@jupyter-widgets/base",
      "model_module_version": "1.2.0",
      "model_name": "LayoutModel",
      "state": {
       "_model_module": "@jupyter-widgets/base",
       "_model_module_version": "1.2.0",
       "_model_name": "LayoutModel",
       "_view_count": null,
       "_view_module": "@jupyter-widgets/base",
       "_view_module_version": "1.2.0",
       "_view_name": "LayoutView",
       "align_content": null,
       "align_items": null,
       "align_self": null,
       "border": null,
       "bottom": null,
       "display": null,
       "flex": null,
       "flex_flow": null,
       "grid_area": null,
       "grid_auto_columns": null,
       "grid_auto_flow": null,
       "grid_auto_rows": null,
       "grid_column": null,
       "grid_gap": null,
       "grid_row": null,
       "grid_template_areas": null,
       "grid_template_columns": null,
       "grid_template_rows": null,
       "height": null,
       "justify_content": null,
       "justify_items": null,
       "left": null,
       "margin": null,
       "max_height": null,
       "max_width": null,
       "min_height": null,
       "min_width": null,
       "object_fit": null,
       "object_position": null,
       "order": null,
       "overflow": null,
       "overflow_x": null,
       "overflow_y": null,
       "padding": null,
       "right": null,
       "top": null,
       "visibility": null,
       "width": null
      }
     },
     "222da04041044800a05657c4d84025c0": {
      "model_module": "@jupyter-widgets/base",
      "model_module_version": "1.2.0",
      "model_name": "LayoutModel",
      "state": {
       "_model_module": "@jupyter-widgets/base",
       "_model_module_version": "1.2.0",
       "_model_name": "LayoutModel",
       "_view_count": null,
       "_view_module": "@jupyter-widgets/base",
       "_view_module_version": "1.2.0",
       "_view_name": "LayoutView",
       "align_content": null,
       "align_items": null,
       "align_self": null,
       "border": null,
       "bottom": null,
       "display": null,
       "flex": null,
       "flex_flow": null,
       "grid_area": null,
       "grid_auto_columns": null,
       "grid_auto_flow": null,
       "grid_auto_rows": null,
       "grid_column": null,
       "grid_gap": null,
       "grid_row": null,
       "grid_template_areas": null,
       "grid_template_columns": null,
       "grid_template_rows": null,
       "height": null,
       "justify_content": null,
       "justify_items": null,
       "left": null,
       "margin": null,
       "max_height": null,
       "max_width": null,
       "min_height": null,
       "min_width": null,
       "object_fit": null,
       "object_position": null,
       "order": null,
       "overflow": null,
       "overflow_x": null,
       "overflow_y": null,
       "padding": null,
       "right": null,
       "top": null,
       "visibility": null,
       "width": null
      }
     },
     "25bb540426a94736ae294f1902c528d0": {
      "model_module": "@jupyter-widgets/base",
      "model_module_version": "1.2.0",
      "model_name": "LayoutModel",
      "state": {
       "_model_module": "@jupyter-widgets/base",
       "_model_module_version": "1.2.0",
       "_model_name": "LayoutModel",
       "_view_count": null,
       "_view_module": "@jupyter-widgets/base",
       "_view_module_version": "1.2.0",
       "_view_name": "LayoutView",
       "align_content": null,
       "align_items": null,
       "align_self": null,
       "border": null,
       "bottom": null,
       "display": null,
       "flex": null,
       "flex_flow": null,
       "grid_area": null,
       "grid_auto_columns": null,
       "grid_auto_flow": null,
       "grid_auto_rows": null,
       "grid_column": null,
       "grid_gap": null,
       "grid_row": null,
       "grid_template_areas": null,
       "grid_template_columns": null,
       "grid_template_rows": null,
       "height": null,
       "justify_content": null,
       "justify_items": null,
       "left": null,
       "margin": null,
       "max_height": null,
       "max_width": null,
       "min_height": null,
       "min_width": null,
       "object_fit": null,
       "object_position": null,
       "order": null,
       "overflow": null,
       "overflow_x": null,
       "overflow_y": null,
       "padding": null,
       "right": null,
       "top": null,
       "visibility": null,
       "width": null
      }
     },
     "27244f87bec44453b12b0dd4b31a49e3": {
      "model_module": "@jupyter-widgets/base",
      "model_module_version": "1.2.0",
      "model_name": "LayoutModel",
      "state": {
       "_model_module": "@jupyter-widgets/base",
       "_model_module_version": "1.2.0",
       "_model_name": "LayoutModel",
       "_view_count": null,
       "_view_module": "@jupyter-widgets/base",
       "_view_module_version": "1.2.0",
       "_view_name": "LayoutView",
       "align_content": null,
       "align_items": null,
       "align_self": null,
       "border": null,
       "bottom": null,
       "display": null,
       "flex": null,
       "flex_flow": null,
       "grid_area": null,
       "grid_auto_columns": null,
       "grid_auto_flow": null,
       "grid_auto_rows": null,
       "grid_column": null,
       "grid_gap": null,
       "grid_row": null,
       "grid_template_areas": null,
       "grid_template_columns": null,
       "grid_template_rows": null,
       "height": null,
       "justify_content": null,
       "justify_items": null,
       "left": null,
       "margin": null,
       "max_height": null,
       "max_width": null,
       "min_height": null,
       "min_width": null,
       "object_fit": null,
       "object_position": null,
       "order": null,
       "overflow": null,
       "overflow_x": null,
       "overflow_y": null,
       "padding": null,
       "right": null,
       "top": null,
       "visibility": null,
       "width": null
      }
     },
     "2df21235bb9b4e5499d3b34c94fc94ea": {
      "model_module": "@jupyter-widgets/base",
      "model_module_version": "1.2.0",
      "model_name": "LayoutModel",
      "state": {
       "_model_module": "@jupyter-widgets/base",
       "_model_module_version": "1.2.0",
       "_model_name": "LayoutModel",
       "_view_count": null,
       "_view_module": "@jupyter-widgets/base",
       "_view_module_version": "1.2.0",
       "_view_name": "LayoutView",
       "align_content": null,
       "align_items": null,
       "align_self": null,
       "border": null,
       "bottom": null,
       "display": null,
       "flex": null,
       "flex_flow": null,
       "grid_area": null,
       "grid_auto_columns": null,
       "grid_auto_flow": null,
       "grid_auto_rows": null,
       "grid_column": null,
       "grid_gap": null,
       "grid_row": null,
       "grid_template_areas": null,
       "grid_template_columns": null,
       "grid_template_rows": null,
       "height": null,
       "justify_content": null,
       "justify_items": null,
       "left": null,
       "margin": null,
       "max_height": null,
       "max_width": null,
       "min_height": null,
       "min_width": null,
       "object_fit": null,
       "object_position": null,
       "order": null,
       "overflow": null,
       "overflow_x": null,
       "overflow_y": null,
       "padding": null,
       "right": null,
       "top": null,
       "visibility": null,
       "width": null
      }
     },
     "30b6ddcef06e45e2bdeebdbcc6a54681": {
      "model_module": "@jupyter-widgets/controls",
      "model_module_version": "1.5.0",
      "model_name": "FloatProgressModel",
      "state": {
       "_dom_classes": [],
       "_model_module": "@jupyter-widgets/controls",
       "_model_module_version": "1.5.0",
       "_model_name": "FloatProgressModel",
       "_view_count": null,
       "_view_module": "@jupyter-widgets/controls",
       "_view_module_version": "1.5.0",
       "_view_name": "ProgressView",
       "bar_style": "success",
       "description": "",
       "description_tooltip": null,
       "layout": "IPY_MODEL_1ea4031b756944f3b2c44f5f04376b4b",
       "max": 1961828.0,
       "min": 0.0,
       "orientation": "horizontal",
       "style": "IPY_MODEL_f567eac31cca46898a434bd6b26d6bf3",
       "value": 1961828.0
      }
     },
     "3bb4be78c1f6416c80f93ee645a8ac6f": {
      "model_module": "@jupyter-widgets/controls",
      "model_module_version": "1.5.0",
      "model_name": "FloatProgressModel",
      "state": {
       "_dom_classes": [],
       "_model_module": "@jupyter-widgets/controls",
       "_model_module_version": "1.5.0",
       "_model_name": "FloatProgressModel",
       "_view_count": null,
       "_view_module": "@jupyter-widgets/controls",
       "_view_module_version": "1.5.0",
       "_view_name": "ProgressView",
       "bar_style": "success",
       "description": "",
       "description_tooltip": null,
       "layout": "IPY_MODEL_ce315af30fd04f778dfbd783a5d96896",
       "max": 714290682.0,
       "min": 0.0,
       "orientation": "horizontal",
       "style": "IPY_MODEL_87844d3ee0704bccaa8f502839be4ec5",
       "value": 714290682.0
      }
     },
     "3ca2e9775d6a4d99821f076a12a664fd": {
      "model_module": "@jupyter-widgets/controls",
      "model_module_version": "1.5.0",
      "model_name": "ProgressStyleModel",
      "state": {
       "_model_module": "@jupyter-widgets/controls",
       "_model_module_version": "1.5.0",
       "_model_name": "ProgressStyleModel",
       "_view_count": null,
       "_view_module": "@jupyter-widgets/base",
       "_view_module_version": "1.2.0",
       "_view_name": "StyleView",
       "bar_color": null,
       "description_width": ""
      }
     },
     "3f58adc834ab409899e9e0656a5bd209": {
      "model_module": "@jupyter-widgets/base",
      "model_module_version": "1.2.0",
      "model_name": "LayoutModel",
      "state": {
       "_model_module": "@jupyter-widgets/base",
       "_model_module_version": "1.2.0",
       "_model_name": "LayoutModel",
       "_view_count": null,
       "_view_module": "@jupyter-widgets/base",
       "_view_module_version": "1.2.0",
       "_view_name": "LayoutView",
       "align_content": null,
       "align_items": null,
       "align_self": null,
       "border": null,
       "bottom": null,
       "display": null,
       "flex": null,
       "flex_flow": null,
       "grid_area": null,
       "grid_auto_columns": null,
       "grid_auto_flow": null,
       "grid_auto_rows": null,
       "grid_column": null,
       "grid_gap": null,
       "grid_row": null,
       "grid_template_areas": null,
       "grid_template_columns": null,
       "grid_template_rows": null,
       "height": null,
       "justify_content": null,
       "justify_items": null,
       "left": null,
       "margin": null,
       "max_height": null,
       "max_width": null,
       "min_height": null,
       "min_width": null,
       "object_fit": null,
       "object_position": null,
       "order": null,
       "overflow": null,
       "overflow_x": null,
       "overflow_y": null,
       "padding": null,
       "right": null,
       "top": null,
       "visibility": null,
       "width": null
      }
     },
     "40467c86b4f84b3cade266b8792c468d": {
      "model_module": "@jupyter-widgets/base",
      "model_module_version": "1.2.0",
      "model_name": "LayoutModel",
      "state": {
       "_model_module": "@jupyter-widgets/base",
       "_model_module_version": "1.2.0",
       "_model_name": "LayoutModel",
       "_view_count": null,
       "_view_module": "@jupyter-widgets/base",
       "_view_module_version": "1.2.0",
       "_view_name": "LayoutView",
       "align_content": null,
       "align_items": null,
       "align_self": null,
       "border": null,
       "bottom": null,
       "display": null,
       "flex": null,
       "flex_flow": null,
       "grid_area": null,
       "grid_auto_columns": null,
       "grid_auto_flow": null,
       "grid_auto_rows": null,
       "grid_column": null,
       "grid_gap": null,
       "grid_row": null,
       "grid_template_areas": null,
       "grid_template_columns": null,
       "grid_template_rows": null,
       "height": null,
       "justify_content": null,
       "justify_items": null,
       "left": null,
       "margin": null,
       "max_height": null,
       "max_width": null,
       "min_height": null,
       "min_width": null,
       "object_fit": null,
       "object_position": null,
       "order": null,
       "overflow": null,
       "overflow_x": null,
       "overflow_y": null,
       "padding": null,
       "right": null,
       "top": null,
       "visibility": null,
       "width": null
      }
     },
     "44d3c52773e54a8f951e26d2437ef44e": {
      "model_module": "@jupyter-widgets/controls",
      "model_module_version": "1.5.0",
      "model_name": "HBoxModel",
      "state": {
       "_dom_classes": [],
       "_model_module": "@jupyter-widgets/controls",
       "_model_module_version": "1.5.0",
       "_model_name": "HBoxModel",
       "_view_count": null,
       "_view_module": "@jupyter-widgets/controls",
       "_view_module_version": "1.5.0",
       "_view_name": "HBoxView",
       "box_style": "",
       "children": [
        "IPY_MODEL_6ba7534156e0447eacfef6f7071802fb",
        "IPY_MODEL_30b6ddcef06e45e2bdeebdbcc6a54681",
        "IPY_MODEL_bd2551f00af84aae9410029d481365cf"
       ],
       "layout": "IPY_MODEL_c9df78ad6a5e4f85bff48031021f1ed3"
      }
     },
     "4a3a70ace95c4ae7a1b92f4060b9feb7": {
      "model_module": "@jupyter-widgets/base",
      "model_module_version": "1.2.0",
      "model_name": "LayoutModel",
      "state": {
       "_model_module": "@jupyter-widgets/base",
       "_model_module_version": "1.2.0",
       "_model_name": "LayoutModel",
       "_view_count": null,
       "_view_module": "@jupyter-widgets/base",
       "_view_module_version": "1.2.0",
       "_view_name": "LayoutView",
       "align_content": null,
       "align_items": null,
       "align_self": null,
       "border": null,
       "bottom": null,
       "display": null,
       "flex": null,
       "flex_flow": null,
       "grid_area": null,
       "grid_auto_columns": null,
       "grid_auto_flow": null,
       "grid_auto_rows": null,
       "grid_column": null,
       "grid_gap": null,
       "grid_row": null,
       "grid_template_areas": null,
       "grid_template_columns": null,
       "grid_template_rows": null,
       "height": null,
       "justify_content": null,
       "justify_items": null,
       "left": null,
       "margin": null,
       "max_height": null,
       "max_width": null,
       "min_height": null,
       "min_width": null,
       "object_fit": null,
       "object_position": null,
       "order": null,
       "overflow": null,
       "overflow_x": null,
       "overflow_y": null,
       "padding": null,
       "right": null,
       "top": null,
       "visibility": null,
       "width": null
      }
     },
     "522fbc882b5141888761d3f6adf6292f": {
      "model_module": "@jupyter-widgets/controls",
      "model_module_version": "1.5.0",
      "model_name": "DescriptionStyleModel",
      "state": {
       "_model_module": "@jupyter-widgets/controls",
       "_model_module_version": "1.5.0",
       "_model_name": "DescriptionStyleModel",
       "_view_count": null,
       "_view_module": "@jupyter-widgets/base",
       "_view_module_version": "1.2.0",
       "_view_name": "StyleView",
       "description_width": ""
      }
     },
     "543590e6b44c4d07af1bd5f9200930ed": {
      "model_module": "@jupyter-widgets/controls",
      "model_module_version": "1.5.0",
      "model_name": "DescriptionStyleModel",
      "state": {
       "_model_module": "@jupyter-widgets/controls",
       "_model_module_version": "1.5.0",
       "_model_name": "DescriptionStyleModel",
       "_view_count": null,
       "_view_module": "@jupyter-widgets/base",
       "_view_module_version": "1.2.0",
       "_view_name": "StyleView",
       "description_width": ""
      }
     },
     "58fdd2a588ac4fe7a1221f98b1a562c9": {
      "model_module": "@jupyter-widgets/controls",
      "model_module_version": "1.5.0",
      "model_name": "ProgressStyleModel",
      "state": {
       "_model_module": "@jupyter-widgets/controls",
       "_model_module_version": "1.5.0",
       "_model_name": "ProgressStyleModel",
       "_view_count": null,
       "_view_module": "@jupyter-widgets/base",
       "_view_module_version": "1.2.0",
       "_view_name": "StyleView",
       "bar_color": null,
       "description_width": ""
      }
     },
     "657363234c604cb88485ed607b2e8adf": {
      "model_module": "@jupyter-widgets/controls",
      "model_module_version": "1.5.0",
      "model_name": "HTMLModel",
      "state": {
       "_dom_classes": [],
       "_model_module": "@jupyter-widgets/controls",
       "_model_module_version": "1.5.0",
       "_model_name": "HTMLModel",
       "_view_count": null,
       "_view_module": "@jupyter-widgets/controls",
       "_view_module_version": "1.5.0",
       "_view_name": "HTMLView",
       "description": "",
       "description_tooltip": null,
       "layout": "IPY_MODEL_fcdbf5800efb4359bad7f4eba446bf2c",
       "placeholder": "​",
       "style": "IPY_MODEL_e66f544de83b4f568a4d629cd77fb348",
       "value": "tokenizer_config.json: 100%"
      }
     },
     "6a2325ee04be4c6b9fe5880814a276f8": {
      "model_module": "@jupyter-widgets/base",
      "model_module_version": "1.2.0",
      "model_name": "LayoutModel",
      "state": {
       "_model_module": "@jupyter-widgets/base",
       "_model_module_version": "1.2.0",
       "_model_name": "LayoutModel",
       "_view_count": null,
       "_view_module": "@jupyter-widgets/base",
       "_view_module_version": "1.2.0",
       "_view_name": "LayoutView",
       "align_content": null,
       "align_items": null,
       "align_self": null,
       "border": null,
       "bottom": null,
       "display": null,
       "flex": null,
       "flex_flow": null,
       "grid_area": null,
       "grid_auto_columns": null,
       "grid_auto_flow": null,
       "grid_auto_rows": null,
       "grid_column": null,
       "grid_gap": null,
       "grid_row": null,
       "grid_template_areas": null,
       "grid_template_columns": null,
       "grid_template_rows": null,
       "height": null,
       "justify_content": null,
       "justify_items": null,
       "left": null,
       "margin": null,
       "max_height": null,
       "max_width": null,
       "min_height": null,
       "min_width": null,
       "object_fit": null,
       "object_position": null,
       "order": null,
       "overflow": null,
       "overflow_x": null,
       "overflow_y": null,
       "padding": null,
       "right": null,
       "top": null,
       "visibility": null,
       "width": null
      }
     },
     "6ba7534156e0447eacfef6f7071802fb": {
      "model_module": "@jupyter-widgets/controls",
      "model_module_version": "1.5.0",
      "model_name": "HTMLModel",
      "state": {
       "_dom_classes": [],
       "_model_module": "@jupyter-widgets/controls",
       "_model_module_version": "1.5.0",
       "_model_name": "HTMLModel",
       "_view_count": null,
       "_view_module": "@jupyter-widgets/controls",
       "_view_module_version": "1.5.0",
       "_view_name": "HTMLView",
       "description": "",
       "description_tooltip": null,
       "layout": "IPY_MODEL_f86fda36a917429498a94e0c6f53b0e9",
       "placeholder": "​",
       "style": "IPY_MODEL_854f0c965fee44d1b3916018db02f297",
       "value": "tokenizer.json: 100%"
      }
     },
     "6cff881cf5f44155a0f5e9142e7b310d": {
      "model_module": "@jupyter-widgets/base",
      "model_module_version": "1.2.0",
      "model_name": "LayoutModel",
      "state": {
       "_model_module": "@jupyter-widgets/base",
       "_model_module_version": "1.2.0",
       "_model_name": "LayoutModel",
       "_view_count": null,
       "_view_module": "@jupyter-widgets/base",
       "_view_module_version": "1.2.0",
       "_view_name": "LayoutView",
       "align_content": null,
       "align_items": null,
       "align_self": null,
       "border": null,
       "bottom": null,
       "display": null,
       "flex": null,
       "flex_flow": null,
       "grid_area": null,
       "grid_auto_columns": null,
       "grid_auto_flow": null,
       "grid_auto_rows": null,
       "grid_column": null,
       "grid_gap": null,
       "grid_row": null,
       "grid_template_areas": null,
       "grid_template_columns": null,
       "grid_template_rows": null,
       "height": null,
       "justify_content": null,
       "justify_items": null,
       "left": null,
       "margin": null,
       "max_height": null,
       "max_width": null,
       "min_height": null,
       "min_width": null,
       "object_fit": null,
       "object_position": null,
       "order": null,
       "overflow": null,
       "overflow_x": null,
       "overflow_y": null,
       "padding": null,
       "right": null,
       "top": null,
       "visibility": null,
       "width": null
      }
     },
     "757291fa819149ae82a929b82ca1b9b9": {
      "model_module": "@jupyter-widgets/controls",
      "model_module_version": "1.5.0",
      "model_name": "HBoxModel",
      "state": {
       "_dom_classes": [],
       "_model_module": "@jupyter-widgets/controls",
       "_model_module_version": "1.5.0",
       "_model_name": "HBoxModel",
       "_view_count": null,
       "_view_module": "@jupyter-widgets/controls",
       "_view_module_version": "1.5.0",
       "_view_name": "HBoxView",
       "box_style": "",
       "children": [
        "IPY_MODEL_657363234c604cb88485ed607b2e8adf",
        "IPY_MODEL_0dc2b3dbb7fe43c3967a6b46e588256e",
        "IPY_MODEL_82827421393448e39fe51ba91898b6c2"
       ],
       "layout": "IPY_MODEL_809af5b3309c4c11a583eb85ba0e10e5"
      }
     },
     "7ea416a4b4364298bdb823e3a661a4da": {
      "model_module": "@jupyter-widgets/controls",
      "model_module_version": "1.5.0",
      "model_name": "DescriptionStyleModel",
      "state": {
       "_model_module": "@jupyter-widgets/controls",
       "_model_module_version": "1.5.0",
       "_model_name": "DescriptionStyleModel",
       "_view_count": null,
       "_view_module": "@jupyter-widgets/base",
       "_view_module_version": "1.2.0",
       "_view_name": "StyleView",
       "description_width": ""
      }
     },
     "809af5b3309c4c11a583eb85ba0e10e5": {
      "model_module": "@jupyter-widgets/base",
      "model_module_version": "1.2.0",
      "model_name": "LayoutModel",
      "state": {
       "_model_module": "@jupyter-widgets/base",
       "_model_module_version": "1.2.0",
       "_model_name": "LayoutModel",
       "_view_count": null,
       "_view_module": "@jupyter-widgets/base",
       "_view_module_version": "1.2.0",
       "_view_name": "LayoutView",
       "align_content": null,
       "align_items": null,
       "align_self": null,
       "border": null,
       "bottom": null,
       "display": null,
       "flex": null,
       "flex_flow": null,
       "grid_area": null,
       "grid_auto_columns": null,
       "grid_auto_flow": null,
       "grid_auto_rows": null,
       "grid_column": null,
       "grid_gap": null,
       "grid_row": null,
       "grid_template_areas": null,
       "grid_template_columns": null,
       "grid_template_rows": null,
       "height": null,
       "justify_content": null,
       "justify_items": null,
       "left": null,
       "margin": null,
       "max_height": null,
       "max_width": null,
       "min_height": null,
       "min_width": null,
       "object_fit": null,
       "object_position": null,
       "order": null,
       "overflow": null,
       "overflow_x": null,
       "overflow_y": null,
       "padding": null,
       "right": null,
       "top": null,
       "visibility": null,
       "width": null
      }
     },
     "8133e84f8b7f4dac93726336db84a65c": {
      "model_module": "@jupyter-widgets/controls",
      "model_module_version": "1.5.0",
      "model_name": "HTMLModel",
      "state": {
       "_dom_classes": [],
       "_model_module": "@jupyter-widgets/controls",
       "_model_module_version": "1.5.0",
       "_model_name": "HTMLModel",
       "_view_count": null,
       "_view_module": "@jupyter-widgets/controls",
       "_view_module_version": "1.5.0",
       "_view_name": "HTMLView",
       "description": "",
       "description_tooltip": null,
       "layout": "IPY_MODEL_6cff881cf5f44155a0f5e9142e7b310d",
       "placeholder": "​",
       "style": "IPY_MODEL_522fbc882b5141888761d3f6adf6292f",
       "value": " 996k/996k [00:00&lt;00:00, 13.4MB/s]"
      }
     },
     "8245679fc99741b6be50a3d632eb8ba0": {
      "model_module": "@jupyter-widgets/base",
      "model_module_version": "1.2.0",
      "model_name": "LayoutModel",
      "state": {
       "_model_module": "@jupyter-widgets/base",
       "_model_module_version": "1.2.0",
       "_model_name": "LayoutModel",
       "_view_count": null,
       "_view_module": "@jupyter-widgets/base",
       "_view_module_version": "1.2.0",
       "_view_name": "LayoutView",
       "align_content": null,
       "align_items": null,
       "align_self": null,
       "border": null,
       "bottom": null,
       "display": null,
       "flex": null,
       "flex_flow": null,
       "grid_area": null,
       "grid_auto_columns": null,
       "grid_auto_flow": null,
       "grid_auto_rows": null,
       "grid_column": null,
       "grid_gap": null,
       "grid_row": null,
       "grid_template_areas": null,
       "grid_template_columns": null,
       "grid_template_rows": null,
       "height": null,
       "justify_content": null,
       "justify_items": null,
       "left": null,
       "margin": null,
       "max_height": null,
       "max_width": null,
       "min_height": null,
       "min_width": null,
       "object_fit": null,
       "object_position": null,
       "order": null,
       "overflow": null,
       "overflow_x": null,
       "overflow_y": null,
       "padding": null,
       "right": null,
       "top": null,
       "visibility": null,
       "width": null
      }
     },
     "82827421393448e39fe51ba91898b6c2": {
      "model_module": "@jupyter-widgets/controls",
      "model_module_version": "1.5.0",
      "model_name": "HTMLModel",
      "state": {
       "_dom_classes": [],
       "_model_module": "@jupyter-widgets/controls",
       "_model_module_version": "1.5.0",
       "_model_name": "HTMLModel",
       "_view_count": null,
       "_view_module": "@jupyter-widgets/controls",
       "_view_module_version": "1.5.0",
       "_view_name": "HTMLView",
       "description": "",
       "description_tooltip": null,
       "layout": "IPY_MODEL_25bb540426a94736ae294f1902c528d0",
       "placeholder": "​",
       "style": "IPY_MODEL_15b27b69a0314a8793dbef4c8c28640f",
       "value": " 49.0/49.0 [00:00&lt;00:00, 4.02kB/s]"
      }
     },
     "854f0c965fee44d1b3916018db02f297": {
      "model_module": "@jupyter-widgets/controls",
      "model_module_version": "1.5.0",
      "model_name": "DescriptionStyleModel",
      "state": {
       "_model_module": "@jupyter-widgets/controls",
       "_model_module_version": "1.5.0",
       "_model_name": "DescriptionStyleModel",
       "_view_count": null,
       "_view_module": "@jupyter-widgets/base",
       "_view_module_version": "1.2.0",
       "_view_name": "StyleView",
       "description_width": ""
      }
     },
     "876ea211fc154eb096c5dce6d7930b3b": {
      "model_module": "@jupyter-widgets/controls",
      "model_module_version": "1.5.0",
      "model_name": "FloatProgressModel",
      "state": {
       "_dom_classes": [],
       "_model_module": "@jupyter-widgets/controls",
       "_model_module_version": "1.5.0",
       "_model_name": "FloatProgressModel",
       "_view_count": null,
       "_view_module": "@jupyter-widgets/controls",
       "_view_module_version": "1.5.0",
       "_view_name": "ProgressView",
       "bar_style": "success",
       "description": "",
       "description_tooltip": null,
       "layout": "IPY_MODEL_8c2b1aeba95f4266aa79cee69357f728",
       "max": 625.0,
       "min": 0.0,
       "orientation": "horizontal",
       "style": "IPY_MODEL_58fdd2a588ac4fe7a1221f98b1a562c9",
       "value": 625.0
      }
     },
     "87844d3ee0704bccaa8f502839be4ec5": {
      "model_module": "@jupyter-widgets/controls",
      "model_module_version": "1.5.0",
      "model_name": "ProgressStyleModel",
      "state": {
       "_model_module": "@jupyter-widgets/controls",
       "_model_module_version": "1.5.0",
       "_model_name": "ProgressStyleModel",
       "_view_count": null,
       "_view_module": "@jupyter-widgets/base",
       "_view_module_version": "1.2.0",
       "_view_name": "StyleView",
       "bar_color": null,
       "description_width": ""
      }
     },
     "8c2b1aeba95f4266aa79cee69357f728": {
      "model_module": "@jupyter-widgets/base",
      "model_module_version": "1.2.0",
      "model_name": "LayoutModel",
      "state": {
       "_model_module": "@jupyter-widgets/base",
       "_model_module_version": "1.2.0",
       "_model_name": "LayoutModel",
       "_view_count": null,
       "_view_module": "@jupyter-widgets/base",
       "_view_module_version": "1.2.0",
       "_view_name": "LayoutView",
       "align_content": null,
       "align_items": null,
       "align_self": null,
       "border": null,
       "bottom": null,
       "display": null,
       "flex": null,
       "flex_flow": null,
       "grid_area": null,
       "grid_auto_columns": null,
       "grid_auto_flow": null,
       "grid_auto_rows": null,
       "grid_column": null,
       "grid_gap": null,
       "grid_row": null,
       "grid_template_areas": null,
       "grid_template_columns": null,
       "grid_template_rows": null,
       "height": null,
       "justify_content": null,
       "justify_items": null,
       "left": null,
       "margin": null,
       "max_height": null,
       "max_width": null,
       "min_height": null,
       "min_width": null,
       "object_fit": null,
       "object_position": null,
       "order": null,
       "overflow": null,
       "overflow_x": null,
       "overflow_y": null,
       "padding": null,
       "right": null,
       "top": null,
       "visibility": null,
       "width": null
      }
     },
     "97128f7d16994ad089eed0d66978544b": {
      "model_module": "@jupyter-widgets/controls",
      "model_module_version": "1.5.0",
      "model_name": "HBoxModel",
      "state": {
       "_dom_classes": [],
       "_model_module": "@jupyter-widgets/controls",
       "_model_module_version": "1.5.0",
       "_model_name": "HBoxModel",
       "_view_count": null,
       "_view_module": "@jupyter-widgets/controls",
       "_view_module_version": "1.5.0",
       "_view_name": "HBoxView",
       "box_style": "",
       "children": [
        "IPY_MODEL_d85e8f73a0e144058f1b1fca7ff43d8b",
        "IPY_MODEL_876ea211fc154eb096c5dce6d7930b3b",
        "IPY_MODEL_b98b6874eab94f04a5fbddf395298f2c"
       ],
       "layout": "IPY_MODEL_6a2325ee04be4c6b9fe5880814a276f8"
      }
     },
     "9bbd67f991a44b4a88f7e62e96ec6152": {
      "model_module": "@jupyter-widgets/controls",
      "model_module_version": "1.5.0",
      "model_name": "HTMLModel",
      "state": {
       "_dom_classes": [],
       "_model_module": "@jupyter-widgets/controls",
       "_model_module_version": "1.5.0",
       "_model_name": "HTMLModel",
       "_view_count": null,
       "_view_module": "@jupyter-widgets/controls",
       "_view_module_version": "1.5.0",
       "_view_name": "HTMLView",
       "description": "",
       "description_tooltip": null,
       "layout": "IPY_MODEL_3f58adc834ab409899e9e0656a5bd209",
       "placeholder": "​",
       "style": "IPY_MODEL_ae57ae1593874eb6b7e8cee9e114f16a",
       "value": " 714M/714M [00:03&lt;00:00, 207MB/s]"
      }
     },
     "9ffe6bd17d344d7f8a73f0d606126c27": {
      "model_module": "@jupyter-widgets/controls",
      "model_module_version": "1.5.0",
      "model_name": "HBoxModel",
      "state": {
       "_dom_classes": [],
       "_model_module": "@jupyter-widgets/controls",
       "_model_module_version": "1.5.0",
       "_model_name": "HBoxModel",
       "_view_count": null,
       "_view_module": "@jupyter-widgets/controls",
       "_view_module_version": "1.5.0",
       "_view_name": "HBoxView",
       "box_style": "",
       "children": [
        "IPY_MODEL_e654cac59391412b98262883fe73581c",
        "IPY_MODEL_3bb4be78c1f6416c80f93ee645a8ac6f",
        "IPY_MODEL_9bbd67f991a44b4a88f7e62e96ec6152"
       ],
       "layout": "IPY_MODEL_40467c86b4f84b3cade266b8792c468d"
      }
     },
     "a5a745d115ef49b5bd18670ecd12c18b": {
      "model_module": "@jupyter-widgets/controls",
      "model_module_version": "1.5.0",
      "model_name": "DescriptionStyleModel",
      "state": {
       "_model_module": "@jupyter-widgets/controls",
       "_model_module_version": "1.5.0",
       "_model_name": "DescriptionStyleModel",
       "_view_count": null,
       "_view_module": "@jupyter-widgets/base",
       "_view_module_version": "1.2.0",
       "_view_name": "StyleView",
       "description_width": ""
      }
     },
     "a83c475248f2405a857ea88413401842": {
      "model_module": "@jupyter-widgets/controls",
      "model_module_version": "1.5.0",
      "model_name": "HTMLModel",
      "state": {
       "_dom_classes": [],
       "_model_module": "@jupyter-widgets/controls",
       "_model_module_version": "1.5.0",
       "_model_name": "HTMLModel",
       "_view_count": null,
       "_view_module": "@jupyter-widgets/controls",
       "_view_module_version": "1.5.0",
       "_view_name": "HTMLView",
       "description": "",
       "description_tooltip": null,
       "layout": "IPY_MODEL_27244f87bec44453b12b0dd4b31a49e3",
       "placeholder": "​",
       "style": "IPY_MODEL_7ea416a4b4364298bdb823e3a661a4da",
       "value": "vocab.txt: 100%"
      }
     },
     "a9e45d13a8a34ae4a2d8e58d524fb5df": {
      "model_module": "@jupyter-widgets/base",
      "model_module_version": "1.2.0",
      "model_name": "LayoutModel",
      "state": {
       "_model_module": "@jupyter-widgets/base",
       "_model_module_version": "1.2.0",
       "_model_name": "LayoutModel",
       "_view_count": null,
       "_view_module": "@jupyter-widgets/base",
       "_view_module_version": "1.2.0",
       "_view_name": "LayoutView",
       "align_content": null,
       "align_items": null,
       "align_self": null,
       "border": null,
       "bottom": null,
       "display": null,
       "flex": null,
       "flex_flow": null,
       "grid_area": null,
       "grid_auto_columns": null,
       "grid_auto_flow": null,
       "grid_auto_rows": null,
       "grid_column": null,
       "grid_gap": null,
       "grid_row": null,
       "grid_template_areas": null,
       "grid_template_columns": null,
       "grid_template_rows": null,
       "height": null,
       "justify_content": null,
       "justify_items": null,
       "left": null,
       "margin": null,
       "max_height": null,
       "max_width": null,
       "min_height": null,
       "min_width": null,
       "object_fit": null,
       "object_position": null,
       "order": null,
       "overflow": null,
       "overflow_x": null,
       "overflow_y": null,
       "padding": null,
       "right": null,
       "top": null,
       "visibility": null,
       "width": null
      }
     },
     "ae57ae1593874eb6b7e8cee9e114f16a": {
      "model_module": "@jupyter-widgets/controls",
      "model_module_version": "1.5.0",
      "model_name": "DescriptionStyleModel",
      "state": {
       "_model_module": "@jupyter-widgets/controls",
       "_model_module_version": "1.5.0",
       "_model_name": "DescriptionStyleModel",
       "_view_count": null,
       "_view_module": "@jupyter-widgets/base",
       "_view_module_version": "1.2.0",
       "_view_name": "StyleView",
       "description_width": ""
      }
     },
     "b98b6874eab94f04a5fbddf395298f2c": {
      "model_module": "@jupyter-widgets/controls",
      "model_module_version": "1.5.0",
      "model_name": "HTMLModel",
      "state": {
       "_dom_classes": [],
       "_model_module": "@jupyter-widgets/controls",
       "_model_module_version": "1.5.0",
       "_model_name": "HTMLModel",
       "_view_count": null,
       "_view_module": "@jupyter-widgets/controls",
       "_view_module_version": "1.5.0",
       "_view_name": "HTMLView",
       "description": "",
       "description_tooltip": null,
       "layout": "IPY_MODEL_8245679fc99741b6be50a3d632eb8ba0",
       "placeholder": "​",
       "style": "IPY_MODEL_fb8e5040414547dcbfa58bdd14d53830",
       "value": " 625/625 [00:00&lt;00:00, 54.6kB/s]"
      }
     },
     "bd2551f00af84aae9410029d481365cf": {
      "model_module": "@jupyter-widgets/controls",
      "model_module_version": "1.5.0",
      "model_name": "HTMLModel",
      "state": {
       "_dom_classes": [],
       "_model_module": "@jupyter-widgets/controls",
       "_model_module_version": "1.5.0",
       "_model_name": "HTMLModel",
       "_view_count": null,
       "_view_module": "@jupyter-widgets/controls",
       "_view_module_version": "1.5.0",
       "_view_name": "HTMLView",
       "description": "",
       "description_tooltip": null,
       "layout": "IPY_MODEL_ce0c885aa1da4c6b8bdeaff5aaccfa35",
       "placeholder": "​",
       "style": "IPY_MODEL_a5a745d115ef49b5bd18670ecd12c18b",
       "value": " 1.96M/1.96M [00:00&lt;00:00, 20.4MB/s]"
      }
     },
     "c9df78ad6a5e4f85bff48031021f1ed3": {
      "model_module": "@jupyter-widgets/base",
      "model_module_version": "1.2.0",
      "model_name": "LayoutModel",
      "state": {
       "_model_module": "@jupyter-widgets/base",
       "_model_module_version": "1.2.0",
       "_model_name": "LayoutModel",
       "_view_count": null,
       "_view_module": "@jupyter-widgets/base",
       "_view_module_version": "1.2.0",
       "_view_name": "LayoutView",
       "align_content": null,
       "align_items": null,
       "align_self": null,
       "border": null,
       "bottom": null,
       "display": null,
       "flex": null,
       "flex_flow": null,
       "grid_area": null,
       "grid_auto_columns": null,
       "grid_auto_flow": null,
       "grid_auto_rows": null,
       "grid_column": null,
       "grid_gap": null,
       "grid_row": null,
       "grid_template_areas": null,
       "grid_template_columns": null,
       "grid_template_rows": null,
       "height": null,
       "justify_content": null,
       "justify_items": null,
       "left": null,
       "margin": null,
       "max_height": null,
       "max_width": null,
       "min_height": null,
       "min_width": null,
       "object_fit": null,
       "object_position": null,
       "order": null,
       "overflow": null,
       "overflow_x": null,
       "overflow_y": null,
       "padding": null,
       "right": null,
       "top": null,
       "visibility": null,
       "width": null
      }
     },
     "ce0c885aa1da4c6b8bdeaff5aaccfa35": {
      "model_module": "@jupyter-widgets/base",
      "model_module_version": "1.2.0",
      "model_name": "LayoutModel",
      "state": {
       "_model_module": "@jupyter-widgets/base",
       "_model_module_version": "1.2.0",
       "_model_name": "LayoutModel",
       "_view_count": null,
       "_view_module": "@jupyter-widgets/base",
       "_view_module_version": "1.2.0",
       "_view_name": "LayoutView",
       "align_content": null,
       "align_items": null,
       "align_self": null,
       "border": null,
       "bottom": null,
       "display": null,
       "flex": null,
       "flex_flow": null,
       "grid_area": null,
       "grid_auto_columns": null,
       "grid_auto_flow": null,
       "grid_auto_rows": null,
       "grid_column": null,
       "grid_gap": null,
       "grid_row": null,
       "grid_template_areas": null,
       "grid_template_columns": null,
       "grid_template_rows": null,
       "height": null,
       "justify_content": null,
       "justify_items": null,
       "left": null,
       "margin": null,
       "max_height": null,
       "max_width": null,
       "min_height": null,
       "min_width": null,
       "object_fit": null,
       "object_position": null,
       "order": null,
       "overflow": null,
       "overflow_x": null,
       "overflow_y": null,
       "padding": null,
       "right": null,
       "top": null,
       "visibility": null,
       "width": null
      }
     },
     "ce315af30fd04f778dfbd783a5d96896": {
      "model_module": "@jupyter-widgets/base",
      "model_module_version": "1.2.0",
      "model_name": "LayoutModel",
      "state": {
       "_model_module": "@jupyter-widgets/base",
       "_model_module_version": "1.2.0",
       "_model_name": "LayoutModel",
       "_view_count": null,
       "_view_module": "@jupyter-widgets/base",
       "_view_module_version": "1.2.0",
       "_view_name": "LayoutView",
       "align_content": null,
       "align_items": null,
       "align_self": null,
       "border": null,
       "bottom": null,
       "display": null,
       "flex": null,
       "flex_flow": null,
       "grid_area": null,
       "grid_auto_columns": null,
       "grid_auto_flow": null,
       "grid_auto_rows": null,
       "grid_column": null,
       "grid_gap": null,
       "grid_row": null,
       "grid_template_areas": null,
       "grid_template_columns": null,
       "grid_template_rows": null,
       "height": null,
       "justify_content": null,
       "justify_items": null,
       "left": null,
       "margin": null,
       "max_height": null,
       "max_width": null,
       "min_height": null,
       "min_width": null,
       "object_fit": null,
       "object_position": null,
       "order": null,
       "overflow": null,
       "overflow_x": null,
       "overflow_y": null,
       "padding": null,
       "right": null,
       "top": null,
       "visibility": null,
       "width": null
      }
     },
     "d85e8f73a0e144058f1b1fca7ff43d8b": {
      "model_module": "@jupyter-widgets/controls",
      "model_module_version": "1.5.0",
      "model_name": "HTMLModel",
      "state": {
       "_dom_classes": [],
       "_model_module": "@jupyter-widgets/controls",
       "_model_module_version": "1.5.0",
       "_model_name": "HTMLModel",
       "_view_count": null,
       "_view_module": "@jupyter-widgets/controls",
       "_view_module_version": "1.5.0",
       "_view_name": "HTMLView",
       "description": "",
       "description_tooltip": null,
       "layout": "IPY_MODEL_222da04041044800a05657c4d84025c0",
       "placeholder": "​",
       "style": "IPY_MODEL_fff2a67da12c4951b7aebd9d8554e082",
       "value": "config.json: 100%"
      }
     },
     "dc13aa95cc4c47f08f1c91732930ee14": {
      "model_module": "@jupyter-widgets/controls",
      "model_module_version": "1.5.0",
      "model_name": "FloatProgressModel",
      "state": {
       "_dom_classes": [],
       "_model_module": "@jupyter-widgets/controls",
       "_model_module_version": "1.5.0",
       "_model_name": "FloatProgressModel",
       "_view_count": null,
       "_view_module": "@jupyter-widgets/controls",
       "_view_module_version": "1.5.0",
       "_view_name": "ProgressView",
       "bar_style": "success",
       "description": "",
       "description_tooltip": null,
       "layout": "IPY_MODEL_0ef88ec8756748dc9a3fc96f00effc8e",
       "max": 995526.0,
       "min": 0.0,
       "orientation": "horizontal",
       "style": "IPY_MODEL_f71e0f67de2a46d9b60b4440500b97be",
       "value": 995526.0
      }
     },
     "e654cac59391412b98262883fe73581c": {
      "model_module": "@jupyter-widgets/controls",
      "model_module_version": "1.5.0",
      "model_name": "HTMLModel",
      "state": {
       "_dom_classes": [],
       "_model_module": "@jupyter-widgets/controls",
       "_model_module_version": "1.5.0",
       "_model_name": "HTMLModel",
       "_view_count": null,
       "_view_module": "@jupyter-widgets/controls",
       "_view_module_version": "1.5.0",
       "_view_name": "HTMLView",
       "description": "",
       "description_tooltip": null,
       "layout": "IPY_MODEL_2df21235bb9b4e5499d3b34c94fc94ea",
       "placeholder": "​",
       "style": "IPY_MODEL_543590e6b44c4d07af1bd5f9200930ed",
       "value": "model.safetensors: 100%"
      }
     },
     "e66f544de83b4f568a4d629cd77fb348": {
      "model_module": "@jupyter-widgets/controls",
      "model_module_version": "1.5.0",
      "model_name": "DescriptionStyleModel",
      "state": {
       "_model_module": "@jupyter-widgets/controls",
       "_model_module_version": "1.5.0",
       "_model_name": "DescriptionStyleModel",
       "_view_count": null,
       "_view_module": "@jupyter-widgets/base",
       "_view_module_version": "1.2.0",
       "_view_name": "StyleView",
       "description_width": ""
      }
     },
     "ecbf6b988b6544e2b67d68201e414cae": {
      "model_module": "@jupyter-widgets/controls",
      "model_module_version": "1.5.0",
      "model_name": "HBoxModel",
      "state": {
       "_dom_classes": [],
       "_model_module": "@jupyter-widgets/controls",
       "_model_module_version": "1.5.0",
       "_model_name": "HBoxModel",
       "_view_count": null,
       "_view_module": "@jupyter-widgets/controls",
       "_view_module_version": "1.5.0",
       "_view_name": "HBoxView",
       "box_style": "",
       "children": [
        "IPY_MODEL_a83c475248f2405a857ea88413401842",
        "IPY_MODEL_dc13aa95cc4c47f08f1c91732930ee14",
        "IPY_MODEL_8133e84f8b7f4dac93726336db84a65c"
       ],
       "layout": "IPY_MODEL_a9e45d13a8a34ae4a2d8e58d524fb5df"
      }
     },
     "f567eac31cca46898a434bd6b26d6bf3": {
      "model_module": "@jupyter-widgets/controls",
      "model_module_version": "1.5.0",
      "model_name": "ProgressStyleModel",
      "state": {
       "_model_module": "@jupyter-widgets/controls",
       "_model_module_version": "1.5.0",
       "_model_name": "ProgressStyleModel",
       "_view_count": null,
       "_view_module": "@jupyter-widgets/base",
       "_view_module_version": "1.2.0",
       "_view_name": "StyleView",
       "bar_color": null,
       "description_width": ""
      }
     },
     "f71e0f67de2a46d9b60b4440500b97be": {
      "model_module": "@jupyter-widgets/controls",
      "model_module_version": "1.5.0",
      "model_name": "ProgressStyleModel",
      "state": {
       "_model_module": "@jupyter-widgets/controls",
       "_model_module_version": "1.5.0",
       "_model_name": "ProgressStyleModel",
       "_view_count": null,
       "_view_module": "@jupyter-widgets/base",
       "_view_module_version": "1.2.0",
       "_view_name": "StyleView",
       "bar_color": null,
       "description_width": ""
      }
     },
     "f86fda36a917429498a94e0c6f53b0e9": {
      "model_module": "@jupyter-widgets/base",
      "model_module_version": "1.2.0",
      "model_name": "LayoutModel",
      "state": {
       "_model_module": "@jupyter-widgets/base",
       "_model_module_version": "1.2.0",
       "_model_name": "LayoutModel",
       "_view_count": null,
       "_view_module": "@jupyter-widgets/base",
       "_view_module_version": "1.2.0",
       "_view_name": "LayoutView",
       "align_content": null,
       "align_items": null,
       "align_self": null,
       "border": null,
       "bottom": null,
       "display": null,
       "flex": null,
       "flex_flow": null,
       "grid_area": null,
       "grid_auto_columns": null,
       "grid_auto_flow": null,
       "grid_auto_rows": null,
       "grid_column": null,
       "grid_gap": null,
       "grid_row": null,
       "grid_template_areas": null,
       "grid_template_columns": null,
       "grid_template_rows": null,
       "height": null,
       "justify_content": null,
       "justify_items": null,
       "left": null,
       "margin": null,
       "max_height": null,
       "max_width": null,
       "min_height": null,
       "min_width": null,
       "object_fit": null,
       "object_position": null,
       "order": null,
       "overflow": null,
       "overflow_x": null,
       "overflow_y": null,
       "padding": null,
       "right": null,
       "top": null,
       "visibility": null,
       "width": null
      }
     },
     "fb8e5040414547dcbfa58bdd14d53830": {
      "model_module": "@jupyter-widgets/controls",
      "model_module_version": "1.5.0",
      "model_name": "DescriptionStyleModel",
      "state": {
       "_model_module": "@jupyter-widgets/controls",
       "_model_module_version": "1.5.0",
       "_model_name": "DescriptionStyleModel",
       "_view_count": null,
       "_view_module": "@jupyter-widgets/base",
       "_view_module_version": "1.2.0",
       "_view_name": "StyleView",
       "description_width": ""
      }
     },
     "fcdbf5800efb4359bad7f4eba446bf2c": {
      "model_module": "@jupyter-widgets/base",
      "model_module_version": "1.2.0",
      "model_name": "LayoutModel",
      "state": {
       "_model_module": "@jupyter-widgets/base",
       "_model_module_version": "1.2.0",
       "_model_name": "LayoutModel",
       "_view_count": null,
       "_view_module": "@jupyter-widgets/base",
       "_view_module_version": "1.2.0",
       "_view_name": "LayoutView",
       "align_content": null,
       "align_items": null,
       "align_self": null,
       "border": null,
       "bottom": null,
       "display": null,
       "flex": null,
       "flex_flow": null,
       "grid_area": null,
       "grid_auto_columns": null,
       "grid_auto_flow": null,
       "grid_auto_rows": null,
       "grid_column": null,
       "grid_gap": null,
       "grid_row": null,
       "grid_template_areas": null,
       "grid_template_columns": null,
       "grid_template_rows": null,
       "height": null,
       "justify_content": null,
       "justify_items": null,
       "left": null,
       "margin": null,
       "max_height": null,
       "max_width": null,
       "min_height": null,
       "min_width": null,
       "object_fit": null,
       "object_position": null,
       "order": null,
       "overflow": null,
       "overflow_x": null,
       "overflow_y": null,
       "padding": null,
       "right": null,
       "top": null,
       "visibility": null,
       "width": null
      }
     },
     "fff2a67da12c4951b7aebd9d8554e082": {
      "model_module": "@jupyter-widgets/controls",
      "model_module_version": "1.5.0",
      "model_name": "DescriptionStyleModel",
      "state": {
       "_model_module": "@jupyter-widgets/controls",
       "_model_module_version": "1.5.0",
       "_model_name": "DescriptionStyleModel",
       "_view_count": null,
       "_view_module": "@jupyter-widgets/base",
       "_view_module_version": "1.2.0",
       "_view_name": "StyleView",
       "description_width": ""
      }
     }
    },
    "version_major": 2,
    "version_minor": 0
   }
  }
 },
 "nbformat": 4,
 "nbformat_minor": 5
}
